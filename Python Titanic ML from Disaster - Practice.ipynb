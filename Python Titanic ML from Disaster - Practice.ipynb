{
 "cells": [
  {
   "cell_type": "markdown",
   "id": "b502010f",
   "metadata": {},
   "source": [
    "<font color=\"darkred\" size=\"5\">Info & Libraries</font>"
   ]
  },
  {
   "cell_type": "code",
   "execution_count": 1,
   "id": "270d7626",
   "metadata": {},
   "outputs": [],
   "source": [
    "# Assignment: Titanic - Machine Learning From Disaster\n",
    "# Date: Dec 19, 2023\n",
    "# Name: industrialj\n",
    "# Kaggle Link to Challenge: https://www.kaggle.com/c/titanic/overview"
   ]
  },
  {
   "cell_type": "code",
   "execution_count": 2,
   "id": "a2b55a56",
   "metadata": {},
   "outputs": [],
   "source": [
    "# Normal Practice:\n",
    "# 1. Accept Rules & Join Competition\n",
    "# 2. Download Data (From Data tab)\n",
    "# 3. Understand problem\n",
    "# 4. EDA (Exploratory Data Analysis)\n",
    "# 5. Train, Tune, Ensemble ML Models\n",
    "# 6. Upload Prediciton as submission on Kaggle & receieve accuracy score"
   ]
  },
  {
   "cell_type": "code",
   "execution_count": 3,
   "id": "e9156665",
   "metadata": {},
   "outputs": [],
   "source": [
    "# How to improve score:\n",
    "# 1. Learn about Data\n",
    "# 2. Expirement\n",
    "    # a. Design new features\n",
    "    # b. Try different preprocessing\n",
    "    # c. Try different types of ML models\n",
    "    # d. Combine multiple models\n",
    "# 3. Learn from other's code & ideas"
   ]
  },
  {
   "cell_type": "code",
   "execution_count": 4,
   "id": "310d753e",
   "metadata": {},
   "outputs": [],
   "source": [
    "#Goal: Predict who survived the Titanic\n",
    "\n",
    "#Data Dictionary:\n",
    "    #Variable :       Definition :                  Key\n",
    "    #______________________________________________________________________________________________\n",
    "    #Survival :       Survival :                    0 = No,  1 = Yes\n",
    "    #Pclass :         Ticket class :                1 = 1st, 2 = 2nd, 3 = 3rd\n",
    "    #Sex :            Sex : \n",
    "    #Age :            Age in years : \n",
    "    #Sibsp :          # of siblings / spouses aboard the Titanic : \n",
    "    #Parch :          # of parents / children aboard the Titanic : \n",
    "    #Ticket :         Ticket number : \n",
    "    #Fare :           Passenger fare : \n",
    "    #Cabin :          Cabin number : \n",
    "    #Embarked :       Port of Embarkation :         C = Cherbourg, Q = Queenstown, S = Southampton\n"
   ]
  },
  {
   "cell_type": "code",
   "execution_count": 5,
   "id": "87eac074",
   "metadata": {},
   "outputs": [],
   "source": [
    "# Import Libraries\n",
    "import pandas as pd\n",
    "import numpy as np\n",
    "import matplotlib as mpl\n",
    "import matplotlib.pyplot as plt\n",
    "import seaborn as sns\n",
    "mpl.style.use('ggplot') #Optional: for ggplot-like style"
   ]
  },
  {
   "cell_type": "markdown",
   "id": "30e9127d",
   "metadata": {},
   "source": [
    "<font color=\"darkred\" size=\"5\">Missing Values & Data Summary</font>"
   ]
  },
  {
   "cell_type": "code",
   "execution_count": 6,
   "id": "bca2d827",
   "metadata": {
    "scrolled": true
   },
   "outputs": [
    {
     "data": {
      "text/html": [
       "<div>\n",
       "<style scoped>\n",
       "    .dataframe tbody tr th:only-of-type {\n",
       "        vertical-align: middle;\n",
       "    }\n",
       "\n",
       "    .dataframe tbody tr th {\n",
       "        vertical-align: top;\n",
       "    }\n",
       "\n",
       "    .dataframe thead th {\n",
       "        text-align: right;\n",
       "    }\n",
       "</style>\n",
       "<table border=\"1\" class=\"dataframe\">\n",
       "  <thead>\n",
       "    <tr style=\"text-align: right;\">\n",
       "      <th></th>\n",
       "      <th>PassengerId</th>\n",
       "      <th>Survived</th>\n",
       "      <th>Pclass</th>\n",
       "      <th>Name</th>\n",
       "      <th>Sex</th>\n",
       "      <th>Age</th>\n",
       "      <th>SibSp</th>\n",
       "      <th>Parch</th>\n",
       "      <th>Ticket</th>\n",
       "      <th>Fare</th>\n",
       "      <th>Cabin</th>\n",
       "      <th>Embarked</th>\n",
       "    </tr>\n",
       "  </thead>\n",
       "  <tbody>\n",
       "    <tr>\n",
       "      <th>0</th>\n",
       "      <td>1</td>\n",
       "      <td>0</td>\n",
       "      <td>3</td>\n",
       "      <td>Braund, Mr. Owen Harris</td>\n",
       "      <td>male</td>\n",
       "      <td>22.0</td>\n",
       "      <td>1</td>\n",
       "      <td>0</td>\n",
       "      <td>A/5 21171</td>\n",
       "      <td>7.2500</td>\n",
       "      <td>NaN</td>\n",
       "      <td>S</td>\n",
       "    </tr>\n",
       "    <tr>\n",
       "      <th>1</th>\n",
       "      <td>2</td>\n",
       "      <td>1</td>\n",
       "      <td>1</td>\n",
       "      <td>Cumings, Mrs. John Bradley (Florence Briggs Th...</td>\n",
       "      <td>female</td>\n",
       "      <td>38.0</td>\n",
       "      <td>1</td>\n",
       "      <td>0</td>\n",
       "      <td>PC 17599</td>\n",
       "      <td>71.2833</td>\n",
       "      <td>C85</td>\n",
       "      <td>C</td>\n",
       "    </tr>\n",
       "    <tr>\n",
       "      <th>2</th>\n",
       "      <td>3</td>\n",
       "      <td>1</td>\n",
       "      <td>3</td>\n",
       "      <td>Heikkinen, Miss. Laina</td>\n",
       "      <td>female</td>\n",
       "      <td>26.0</td>\n",
       "      <td>0</td>\n",
       "      <td>0</td>\n",
       "      <td>STON/O2. 3101282</td>\n",
       "      <td>7.9250</td>\n",
       "      <td>NaN</td>\n",
       "      <td>S</td>\n",
       "    </tr>\n",
       "    <tr>\n",
       "      <th>3</th>\n",
       "      <td>4</td>\n",
       "      <td>1</td>\n",
       "      <td>1</td>\n",
       "      <td>Futrelle, Mrs. Jacques Heath (Lily May Peel)</td>\n",
       "      <td>female</td>\n",
       "      <td>35.0</td>\n",
       "      <td>1</td>\n",
       "      <td>0</td>\n",
       "      <td>113803</td>\n",
       "      <td>53.1000</td>\n",
       "      <td>C123</td>\n",
       "      <td>S</td>\n",
       "    </tr>\n",
       "    <tr>\n",
       "      <th>4</th>\n",
       "      <td>5</td>\n",
       "      <td>0</td>\n",
       "      <td>3</td>\n",
       "      <td>Allen, Mr. William Henry</td>\n",
       "      <td>male</td>\n",
       "      <td>35.0</td>\n",
       "      <td>0</td>\n",
       "      <td>0</td>\n",
       "      <td>373450</td>\n",
       "      <td>8.0500</td>\n",
       "      <td>NaN</td>\n",
       "      <td>S</td>\n",
       "    </tr>\n",
       "  </tbody>\n",
       "</table>\n",
       "</div>"
      ],
      "text/plain": [
       "   PassengerId  Survived  Pclass  \\\n",
       "0            1         0       3   \n",
       "1            2         1       1   \n",
       "2            3         1       3   \n",
       "3            4         1       1   \n",
       "4            5         0       3   \n",
       "\n",
       "                                                Name     Sex   Age  SibSp  \\\n",
       "0                            Braund, Mr. Owen Harris    male  22.0      1   \n",
       "1  Cumings, Mrs. John Bradley (Florence Briggs Th...  female  38.0      1   \n",
       "2                             Heikkinen, Miss. Laina  female  26.0      0   \n",
       "3       Futrelle, Mrs. Jacques Heath (Lily May Peel)  female  35.0      1   \n",
       "4                           Allen, Mr. William Henry    male  35.0      0   \n",
       "\n",
       "   Parch            Ticket     Fare Cabin Embarked  \n",
       "0      0         A/5 21171   7.2500   NaN        S  \n",
       "1      0          PC 17599  71.2833   C85        C  \n",
       "2      0  STON/O2. 3101282   7.9250   NaN        S  \n",
       "3      0            113803  53.1000  C123        S  \n",
       "4      0            373450   8.0500   NaN        S  "
      ]
     },
     "execution_count": 6,
     "metadata": {},
     "output_type": "execute_result"
    }
   ],
   "source": [
    "#Reading in train data\n",
    "train_data = pd.read_csv(\"C:/Users/jaide/Music/Practice/Titanic - Machine Learning from Disaster/train.csv\")\n",
    "train_data.head()"
   ]
  },
  {
   "cell_type": "code",
   "execution_count": 7,
   "id": "36c9798e",
   "metadata": {
    "scrolled": true
   },
   "outputs": [
    {
     "data": {
      "text/html": [
       "<div>\n",
       "<style scoped>\n",
       "    .dataframe tbody tr th:only-of-type {\n",
       "        vertical-align: middle;\n",
       "    }\n",
       "\n",
       "    .dataframe tbody tr th {\n",
       "        vertical-align: top;\n",
       "    }\n",
       "\n",
       "    .dataframe thead th {\n",
       "        text-align: right;\n",
       "    }\n",
       "</style>\n",
       "<table border=\"1\" class=\"dataframe\">\n",
       "  <thead>\n",
       "    <tr style=\"text-align: right;\">\n",
       "      <th></th>\n",
       "      <th>PassengerId</th>\n",
       "      <th>Pclass</th>\n",
       "      <th>Name</th>\n",
       "      <th>Sex</th>\n",
       "      <th>Age</th>\n",
       "      <th>SibSp</th>\n",
       "      <th>Parch</th>\n",
       "      <th>Ticket</th>\n",
       "      <th>Fare</th>\n",
       "      <th>Cabin</th>\n",
       "      <th>Embarked</th>\n",
       "    </tr>\n",
       "  </thead>\n",
       "  <tbody>\n",
       "    <tr>\n",
       "      <th>0</th>\n",
       "      <td>892</td>\n",
       "      <td>3</td>\n",
       "      <td>Kelly, Mr. James</td>\n",
       "      <td>male</td>\n",
       "      <td>34.5</td>\n",
       "      <td>0</td>\n",
       "      <td>0</td>\n",
       "      <td>330911</td>\n",
       "      <td>7.8292</td>\n",
       "      <td>NaN</td>\n",
       "      <td>Q</td>\n",
       "    </tr>\n",
       "    <tr>\n",
       "      <th>1</th>\n",
       "      <td>893</td>\n",
       "      <td>3</td>\n",
       "      <td>Wilkes, Mrs. James (Ellen Needs)</td>\n",
       "      <td>female</td>\n",
       "      <td>47.0</td>\n",
       "      <td>1</td>\n",
       "      <td>0</td>\n",
       "      <td>363272</td>\n",
       "      <td>7.0000</td>\n",
       "      <td>NaN</td>\n",
       "      <td>S</td>\n",
       "    </tr>\n",
       "    <tr>\n",
       "      <th>2</th>\n",
       "      <td>894</td>\n",
       "      <td>2</td>\n",
       "      <td>Myles, Mr. Thomas Francis</td>\n",
       "      <td>male</td>\n",
       "      <td>62.0</td>\n",
       "      <td>0</td>\n",
       "      <td>0</td>\n",
       "      <td>240276</td>\n",
       "      <td>9.6875</td>\n",
       "      <td>NaN</td>\n",
       "      <td>Q</td>\n",
       "    </tr>\n",
       "    <tr>\n",
       "      <th>3</th>\n",
       "      <td>895</td>\n",
       "      <td>3</td>\n",
       "      <td>Wirz, Mr. Albert</td>\n",
       "      <td>male</td>\n",
       "      <td>27.0</td>\n",
       "      <td>0</td>\n",
       "      <td>0</td>\n",
       "      <td>315154</td>\n",
       "      <td>8.6625</td>\n",
       "      <td>NaN</td>\n",
       "      <td>S</td>\n",
       "    </tr>\n",
       "    <tr>\n",
       "      <th>4</th>\n",
       "      <td>896</td>\n",
       "      <td>3</td>\n",
       "      <td>Hirvonen, Mrs. Alexander (Helga E Lindqvist)</td>\n",
       "      <td>female</td>\n",
       "      <td>22.0</td>\n",
       "      <td>1</td>\n",
       "      <td>1</td>\n",
       "      <td>3101298</td>\n",
       "      <td>12.2875</td>\n",
       "      <td>NaN</td>\n",
       "      <td>S</td>\n",
       "    </tr>\n",
       "  </tbody>\n",
       "</table>\n",
       "</div>"
      ],
      "text/plain": [
       "   PassengerId  Pclass                                          Name     Sex  \\\n",
       "0          892       3                              Kelly, Mr. James    male   \n",
       "1          893       3              Wilkes, Mrs. James (Ellen Needs)  female   \n",
       "2          894       2                     Myles, Mr. Thomas Francis    male   \n",
       "3          895       3                              Wirz, Mr. Albert    male   \n",
       "4          896       3  Hirvonen, Mrs. Alexander (Helga E Lindqvist)  female   \n",
       "\n",
       "    Age  SibSp  Parch   Ticket     Fare Cabin Embarked  \n",
       "0  34.5      0      0   330911   7.8292   NaN        Q  \n",
       "1  47.0      1      0   363272   7.0000   NaN        S  \n",
       "2  62.0      0      0   240276   9.6875   NaN        Q  \n",
       "3  27.0      0      0   315154   8.6625   NaN        S  \n",
       "4  22.0      1      1  3101298  12.2875   NaN        S  "
      ]
     },
     "execution_count": 7,
     "metadata": {},
     "output_type": "execute_result"
    }
   ],
   "source": [
    "# Reading in test data\n",
    "test_data = pd.read_csv(\"C:/Users/jaide/Music/Practice/Titanic - Machine Learning from Disaster/test.csv\")\n",
    "test_data.head() #Surivived column missing"
   ]
  },
  {
   "cell_type": "code",
   "execution_count": 8,
   "id": "f479347d",
   "metadata": {
    "scrolled": false
   },
   "outputs": [
    {
     "data": {
      "text/html": [
       "<div>\n",
       "<style scoped>\n",
       "    .dataframe tbody tr th:only-of-type {\n",
       "        vertical-align: middle;\n",
       "    }\n",
       "\n",
       "    .dataframe tbody tr th {\n",
       "        vertical-align: top;\n",
       "    }\n",
       "\n",
       "    .dataframe thead th {\n",
       "        text-align: right;\n",
       "    }\n",
       "</style>\n",
       "<table border=\"1\" class=\"dataframe\">\n",
       "  <thead>\n",
       "    <tr style=\"text-align: right;\">\n",
       "      <th></th>\n",
       "      <th>PassengerId</th>\n",
       "      <th>Survived</th>\n",
       "      <th>Pclass</th>\n",
       "      <th>Name</th>\n",
       "      <th>Sex</th>\n",
       "      <th>Age</th>\n",
       "      <th>SibSp</th>\n",
       "      <th>Parch</th>\n",
       "      <th>Ticket</th>\n",
       "      <th>Fare</th>\n",
       "      <th>Cabin</th>\n",
       "      <th>Embarked</th>\n",
       "    </tr>\n",
       "  </thead>\n",
       "  <tbody>\n",
       "    <tr>\n",
       "      <th>886</th>\n",
       "      <td>887</td>\n",
       "      <td>0</td>\n",
       "      <td>2</td>\n",
       "      <td>Montvila, Rev. Juozas</td>\n",
       "      <td>male</td>\n",
       "      <td>27.0</td>\n",
       "      <td>0</td>\n",
       "      <td>0</td>\n",
       "      <td>211536</td>\n",
       "      <td>13.00</td>\n",
       "      <td>NaN</td>\n",
       "      <td>S</td>\n",
       "    </tr>\n",
       "    <tr>\n",
       "      <th>887</th>\n",
       "      <td>888</td>\n",
       "      <td>1</td>\n",
       "      <td>1</td>\n",
       "      <td>Graham, Miss. Margaret Edith</td>\n",
       "      <td>female</td>\n",
       "      <td>19.0</td>\n",
       "      <td>0</td>\n",
       "      <td>0</td>\n",
       "      <td>112053</td>\n",
       "      <td>30.00</td>\n",
       "      <td>B42</td>\n",
       "      <td>S</td>\n",
       "    </tr>\n",
       "    <tr>\n",
       "      <th>888</th>\n",
       "      <td>889</td>\n",
       "      <td>0</td>\n",
       "      <td>3</td>\n",
       "      <td>Johnston, Miss. Catherine Helen \"Carrie\"</td>\n",
       "      <td>female</td>\n",
       "      <td>NaN</td>\n",
       "      <td>1</td>\n",
       "      <td>2</td>\n",
       "      <td>W./C. 6607</td>\n",
       "      <td>23.45</td>\n",
       "      <td>NaN</td>\n",
       "      <td>S</td>\n",
       "    </tr>\n",
       "    <tr>\n",
       "      <th>889</th>\n",
       "      <td>890</td>\n",
       "      <td>1</td>\n",
       "      <td>1</td>\n",
       "      <td>Behr, Mr. Karl Howell</td>\n",
       "      <td>male</td>\n",
       "      <td>26.0</td>\n",
       "      <td>0</td>\n",
       "      <td>0</td>\n",
       "      <td>111369</td>\n",
       "      <td>30.00</td>\n",
       "      <td>C148</td>\n",
       "      <td>C</td>\n",
       "    </tr>\n",
       "    <tr>\n",
       "      <th>890</th>\n",
       "      <td>891</td>\n",
       "      <td>0</td>\n",
       "      <td>3</td>\n",
       "      <td>Dooley, Mr. Patrick</td>\n",
       "      <td>male</td>\n",
       "      <td>32.0</td>\n",
       "      <td>0</td>\n",
       "      <td>0</td>\n",
       "      <td>370376</td>\n",
       "      <td>7.75</td>\n",
       "      <td>NaN</td>\n",
       "      <td>Q</td>\n",
       "    </tr>\n",
       "  </tbody>\n",
       "</table>\n",
       "</div>"
      ],
      "text/plain": [
       "     PassengerId  Survived  Pclass                                      Name  \\\n",
       "886          887         0       2                     Montvila, Rev. Juozas   \n",
       "887          888         1       1              Graham, Miss. Margaret Edith   \n",
       "888          889         0       3  Johnston, Miss. Catherine Helen \"Carrie\"   \n",
       "889          890         1       1                     Behr, Mr. Karl Howell   \n",
       "890          891         0       3                       Dooley, Mr. Patrick   \n",
       "\n",
       "        Sex   Age  SibSp  Parch      Ticket   Fare Cabin Embarked  \n",
       "886    male  27.0      0      0      211536  13.00   NaN        S  \n",
       "887  female  19.0      0      0      112053  30.00   B42        S  \n",
       "888  female   NaN      1      2  W./C. 6607  23.45   NaN        S  \n",
       "889    male  26.0      0      0      111369  30.00  C148        C  \n",
       "890    male  32.0      0      0      370376   7.75   NaN        Q  "
      ]
     },
     "execution_count": 8,
     "metadata": {},
     "output_type": "execute_result"
    }
   ],
   "source": [
    "#Tail of train data\n",
    "train_data.tail()"
   ]
  },
  {
   "cell_type": "code",
   "execution_count": 9,
   "id": "52607f1d",
   "metadata": {},
   "outputs": [],
   "source": [
    "# Definitions for summarizing data\n",
    "train_summary = train_data.describe()\n",
    "train_dtypes = train_data.dtypes\n",
    "train_missing_data = train_data.isnull().sum()\n",
    "test_missing_data = test_data.isnull().sum()\n",
    "train_shape = train_data.shape"
   ]
  },
  {
   "cell_type": "code",
   "execution_count": 10,
   "id": "d914ecc8",
   "metadata": {},
   "outputs": [
    {
     "data": {
      "text/html": [
       "<div>\n",
       "<style scoped>\n",
       "    .dataframe tbody tr th:only-of-type {\n",
       "        vertical-align: middle;\n",
       "    }\n",
       "\n",
       "    .dataframe tbody tr th {\n",
       "        vertical-align: top;\n",
       "    }\n",
       "\n",
       "    .dataframe thead th {\n",
       "        text-align: right;\n",
       "    }\n",
       "</style>\n",
       "<table border=\"1\" class=\"dataframe\">\n",
       "  <thead>\n",
       "    <tr style=\"text-align: right;\">\n",
       "      <th></th>\n",
       "      <th>PassengerId</th>\n",
       "      <th>Survived</th>\n",
       "      <th>Pclass</th>\n",
       "      <th>Age</th>\n",
       "      <th>SibSp</th>\n",
       "      <th>Parch</th>\n",
       "      <th>Fare</th>\n",
       "    </tr>\n",
       "  </thead>\n",
       "  <tbody>\n",
       "    <tr>\n",
       "      <th>count</th>\n",
       "      <td>891.000000</td>\n",
       "      <td>891.000000</td>\n",
       "      <td>891.000000</td>\n",
       "      <td>714.000000</td>\n",
       "      <td>891.000000</td>\n",
       "      <td>891.000000</td>\n",
       "      <td>891.000000</td>\n",
       "    </tr>\n",
       "    <tr>\n",
       "      <th>mean</th>\n",
       "      <td>446.000000</td>\n",
       "      <td>0.383838</td>\n",
       "      <td>2.308642</td>\n",
       "      <td>29.699118</td>\n",
       "      <td>0.523008</td>\n",
       "      <td>0.381594</td>\n",
       "      <td>32.204208</td>\n",
       "    </tr>\n",
       "    <tr>\n",
       "      <th>std</th>\n",
       "      <td>257.353842</td>\n",
       "      <td>0.486592</td>\n",
       "      <td>0.836071</td>\n",
       "      <td>14.526497</td>\n",
       "      <td>1.102743</td>\n",
       "      <td>0.806057</td>\n",
       "      <td>49.693429</td>\n",
       "    </tr>\n",
       "    <tr>\n",
       "      <th>min</th>\n",
       "      <td>1.000000</td>\n",
       "      <td>0.000000</td>\n",
       "      <td>1.000000</td>\n",
       "      <td>0.420000</td>\n",
       "      <td>0.000000</td>\n",
       "      <td>0.000000</td>\n",
       "      <td>0.000000</td>\n",
       "    </tr>\n",
       "    <tr>\n",
       "      <th>25%</th>\n",
       "      <td>223.500000</td>\n",
       "      <td>0.000000</td>\n",
       "      <td>2.000000</td>\n",
       "      <td>20.125000</td>\n",
       "      <td>0.000000</td>\n",
       "      <td>0.000000</td>\n",
       "      <td>7.910400</td>\n",
       "    </tr>\n",
       "    <tr>\n",
       "      <th>50%</th>\n",
       "      <td>446.000000</td>\n",
       "      <td>0.000000</td>\n",
       "      <td>3.000000</td>\n",
       "      <td>28.000000</td>\n",
       "      <td>0.000000</td>\n",
       "      <td>0.000000</td>\n",
       "      <td>14.454200</td>\n",
       "    </tr>\n",
       "    <tr>\n",
       "      <th>75%</th>\n",
       "      <td>668.500000</td>\n",
       "      <td>1.000000</td>\n",
       "      <td>3.000000</td>\n",
       "      <td>38.000000</td>\n",
       "      <td>1.000000</td>\n",
       "      <td>0.000000</td>\n",
       "      <td>31.000000</td>\n",
       "    </tr>\n",
       "    <tr>\n",
       "      <th>max</th>\n",
       "      <td>891.000000</td>\n",
       "      <td>1.000000</td>\n",
       "      <td>3.000000</td>\n",
       "      <td>80.000000</td>\n",
       "      <td>8.000000</td>\n",
       "      <td>6.000000</td>\n",
       "      <td>512.329200</td>\n",
       "    </tr>\n",
       "  </tbody>\n",
       "</table>\n",
       "</div>"
      ],
      "text/plain": [
       "       PassengerId    Survived      Pclass         Age       SibSp  \\\n",
       "count   891.000000  891.000000  891.000000  714.000000  891.000000   \n",
       "mean    446.000000    0.383838    2.308642   29.699118    0.523008   \n",
       "std     257.353842    0.486592    0.836071   14.526497    1.102743   \n",
       "min       1.000000    0.000000    1.000000    0.420000    0.000000   \n",
       "25%     223.500000    0.000000    2.000000   20.125000    0.000000   \n",
       "50%     446.000000    0.000000    3.000000   28.000000    0.000000   \n",
       "75%     668.500000    1.000000    3.000000   38.000000    1.000000   \n",
       "max     891.000000    1.000000    3.000000   80.000000    8.000000   \n",
       "\n",
       "            Parch        Fare  \n",
       "count  891.000000  891.000000  \n",
       "mean     0.381594   32.204208  \n",
       "std      0.806057   49.693429  \n",
       "min      0.000000    0.000000  \n",
       "25%      0.000000    7.910400  \n",
       "50%      0.000000   14.454200  \n",
       "75%      0.000000   31.000000  \n",
       "max      6.000000  512.329200  "
      ]
     },
     "execution_count": 10,
     "metadata": {},
     "output_type": "execute_result"
    }
   ],
   "source": [
    "train_summary"
   ]
  },
  {
   "cell_type": "code",
   "execution_count": 11,
   "id": "721ca8f6",
   "metadata": {},
   "outputs": [
    {
     "data": {
      "text/plain": [
       "PassengerId      int64\n",
       "Survived         int64\n",
       "Pclass           int64\n",
       "Name            object\n",
       "Sex             object\n",
       "Age            float64\n",
       "SibSp            int64\n",
       "Parch            int64\n",
       "Ticket          object\n",
       "Fare           float64\n",
       "Cabin           object\n",
       "Embarked        object\n",
       "dtype: object"
      ]
     },
     "execution_count": 11,
     "metadata": {},
     "output_type": "execute_result"
    }
   ],
   "source": [
    "train_dtypes"
   ]
  },
  {
   "cell_type": "code",
   "execution_count": 12,
   "id": "5541e6dc",
   "metadata": {},
   "outputs": [
    {
     "data": {
      "text/plain": [
       "PassengerId      0\n",
       "Survived         0\n",
       "Pclass           0\n",
       "Name             0\n",
       "Sex              0\n",
       "Age            177\n",
       "SibSp            0\n",
       "Parch            0\n",
       "Ticket           0\n",
       "Fare             0\n",
       "Cabin          687\n",
       "Embarked         2\n",
       "dtype: int64"
      ]
     },
     "execution_count": 12,
     "metadata": {},
     "output_type": "execute_result"
    }
   ],
   "source": [
    "train_missing_data"
   ]
  },
  {
   "cell_type": "code",
   "execution_count": 13,
   "id": "46016d2b",
   "metadata": {},
   "outputs": [
    {
     "data": {
      "text/plain": [
       "PassengerId      0\n",
       "Pclass           0\n",
       "Name             0\n",
       "Sex              0\n",
       "Age             86\n",
       "SibSp            0\n",
       "Parch            0\n",
       "Ticket           0\n",
       "Fare             1\n",
       "Cabin          327\n",
       "Embarked         0\n",
       "dtype: int64"
      ]
     },
     "execution_count": 13,
     "metadata": {},
     "output_type": "execute_result"
    }
   ],
   "source": [
    "test_missing_data"
   ]
  },
  {
   "cell_type": "code",
   "execution_count": 14,
   "id": "856d4fe1",
   "metadata": {
    "scrolled": false
   },
   "outputs": [],
   "source": [
    "# # Evaluating Missing Data (***Not needed but cool)\n",
    "# missing_data = train_data.isnull()\n",
    "# missing_data.head(5)"
   ]
  },
  {
   "cell_type": "code",
   "execution_count": 15,
   "id": "341afd73",
   "metadata": {
    "scrolled": true
   },
   "outputs": [],
   "source": [
    "# # Counting missing values in each column (***Not needed but cool)\n",
    "# for column in missing_data.columns.values.tolist():\n",
    "#     print(column)\n",
    "#     print (missing_data[column].value_counts())\n",
    "#     print(\"\")    "
   ]
  },
  {
   "cell_type": "code",
   "execution_count": 16,
   "id": "c3d4ddb0",
   "metadata": {},
   "outputs": [
    {
     "data": {
      "text/plain": [
       "(891, 12)"
      ]
     },
     "execution_count": 16,
     "metadata": {},
     "output_type": "execute_result"
    }
   ],
   "source": [
    "train_shape"
   ]
  },
  {
   "cell_type": "markdown",
   "id": "be996f4b",
   "metadata": {},
   "source": [
    "Summary:\n",
    "    <li>Age has 177 missing values</li>\n",
    "    <li>Cabin has 204 missing values</li>\n",
    "    <li>Embarked has 2 missing values</li>"
   ]
  },
  {
   "cell_type": "code",
   "execution_count": 17,
   "id": "c99e8d9a",
   "metadata": {},
   "outputs": [],
   "source": [
    "# #Not important, but just some fun querying for practice. Where Embarked = S\n",
    "# condition = train_data['Embarked'] =='S'\n",
    "# train_data[condition]"
   ]
  },
  {
   "cell_type": "code",
   "execution_count": 18,
   "id": "615f9a76",
   "metadata": {},
   "outputs": [],
   "source": [
    "# # Again, just for practice. Where Embarked = S and Fare greater than 7.50\n",
    "# train_data[(train_data['Embarked']=='S') & (train_data['Fare'] >= 7.50)]"
   ]
  },
  {
   "cell_type": "code",
   "execution_count": 19,
   "id": "50083caf",
   "metadata": {},
   "outputs": [],
   "source": [
    "# For fun. Finding the top 5 fares\n",
    "# train_data.sort_values(by='Fare', ascending = False, axis = 0, inplace=True)\n",
    "# top_5= train_data.head(5)\n",
    "# top_5"
   ]
  },
  {
   "cell_type": "markdown",
   "id": "b00a49a9",
   "metadata": {},
   "source": [
    "<font color=\"red\" size=\"4\">Data Visualization</font>\n",
    "    <li>1. Passenger Class (Bar Chart)</li>\n",
    "    <li>2. Gender (Bar chart & Pie Chart)</li>\n",
    "    <li>3. Age (Bar Chart & Histogram)</li>\n",
    "    <li>4. Sibling/Spouse (Bar Chart)</li>\n",
    "    <li>5. Parent/Child (Bar Chart)</li>\n",
    "    <li>6. Fare (Histogram & Boxplot)</li>\n",
    "    <li>7. Embark Points (Pie Chart)</li>"
   ]
  },
  {
   "cell_type": "code",
   "execution_count": 20,
   "id": "f77ad6a5",
   "metadata": {
    "scrolled": true
   },
   "outputs": [
    {
     "data": {
      "image/png": "[encoded data removed]",
      "text/plain": [
       "<Figure size 600x300 with 1 Axes>"
      ]
     },
     "metadata": {},
     "output_type": "display_data"
    }
   ],
   "source": [
    "# PASSENGER CLASS BARPLOT SURVIVAL COMPARISON\n",
    "# Preparing the data for plotting\n",
    "count_class = train_data.groupby(['Pclass', 'Survived']).size().unstack() #Unstack reshapes to df\n",
    "\n",
    "# Plotting\n",
    "count_class.plot(kind='bar', stacked=False, figsize=(6, 3)) #Stacked means bar plots should not stack bars for different 'Survived values'\n",
    "\n",
    "# Formatting\n",
    "plt.title('Survival Count by Passenger Class')\n",
    "plt.xlabel('Passenger Class')\n",
    "plt.ylabel('Count')\n",
    "plt.xticks(ticks=[0, 1, 2], labels=['1st Class', '2nd Class', '3rd Class'], rotation=0)\n",
    "plt.legend(title='Survived', labels=['No', 'Yes'])\n",
    "plt.show()"
   ]
  },
  {
   "cell_type": "markdown",
   "id": "1677978e",
   "metadata": {},
   "source": [
    "As noticable, there are more relative 1st class surivivors, then 2nd class surivivors, then 3rd class survivors."
   ]
  },
  {
   "cell_type": "code",
   "execution_count": 21,
   "id": "ff4382c5",
   "metadata": {
    "scrolled": true
   },
   "outputs": [
    {
     "data": {
      "image/png": "[encoded data removed]",
      "text/plain": [
       "<Figure size 600x300 with 1 Axes>"
      ]
     },
     "metadata": {},
     "output_type": "display_data"
    }
   ],
   "source": [
    "# GENDER BARPLOT SURVIVAL COMPARISON\n",
    "# Preparing the data for plotting\n",
    "count_sex = train_data.groupby(['Sex', 'Survived']).size().unstack()\n",
    "\n",
    "# Plotting\n",
    "count_sex.plot(kind='bar', stacked=False, figsize = (6, 3))\n",
    "\n",
    "# Formatting\n",
    "plt.title('Survival Count by Gender')\n",
    "plt.xlabel('Gender')\n",
    "plt.ylabel('Count')\n",
    "plt.xticks(ticks=[0, 1], labels=['Female', 'Male'], rotation=0)\n",
    "plt.legend(title='Survived', labels=['No', 'Yes'])\n",
    "plt.show()"
   ]
  },
  {
   "cell_type": "markdown",
   "id": "081cd77e",
   "metadata": {},
   "source": [
    "In the Bar chart, a greater proportion of emals surivived then males survived"
   ]
  },
  {
   "cell_type": "code",
   "execution_count": 22,
   "id": "9cf006c2",
   "metadata": {
    "scrolled": true
   },
   "outputs": [
    {
     "data": {
      "image/png": "[encoded data removed]",
      "text/plain": [
       "<Figure size 300x600 with 1 Axes>"
      ]
     },
     "metadata": {},
     "output_type": "display_data"
    }
   ],
   "source": [
    "# Pie chart setup for fun\n",
    "df_gender = train_data.groupby('Sex', axis = 0).sum()\n",
    "\n",
    "# Seeing Proprotion of who survived through pie chart (For fun)\n",
    "df_gender['Survived'].plot(kind='pie',\n",
    "                            figsize=(3, 6),\n",
    "                            autopct='%1.1f%%',  # add in percentages\n",
    "                            startangle=90,  \n",
    "                            shadow=True,        # add shadow      \n",
    "                            # pctdistance = 1.5, # The ratio b/w pie center and start of text\n",
    "                            explode = (0, 0.05) # 'Explode' male from female\n",
    "                            )\n",
    "\n",
    "\n",
    "#plt.axis('equal') # Sets the pie chart to look like a circle.\n",
    "#plt.legend(labels=df_gender.index, loc='upper left') \n",
    "\n",
    "plt.title('Difference of Genders')\n",
    "plt.show()"
   ]
  },
  {
   "cell_type": "markdown",
   "id": "b88cfca8",
   "metadata": {},
   "source": [
    "Of those who survived, 68.1% were female and 31.9% were male. Probably because there may be a rule that feamles and children are boarded first."
   ]
  },
  {
   "cell_type": "code",
   "execution_count": 23,
   "id": "822e8134",
   "metadata": {
    "scrolled": false
   },
   "outputs": [
    {
     "data": {
      "image/png": "[encoded data removed]",
      "text/plain": [
       "<Figure size 600x300 with 1 Axes>"
      ]
     },
     "metadata": {},
     "output_type": "display_data"
    }
   ],
   "source": [
    "# AGE GROUP BARPLOT SURVIVAL COMPARISON\n",
    "\n",
    "# Handling Missing Data and Categorizing Age Groups\n",
    "train_data[\"Age\"] = train_data[\"Age\"].fillna(-1)   #Filling 'Age' NA values with '-1'\n",
    "bins = [-2, 0, 4, 12, 18, 35, 64, np.inf]\n",
    "labels = ['Unknown', 'Toddler', 'Child', 'Teen', 'Young Adult', 'Adult', 'Senior']\n",
    "train_data['AgeGroup'] = pd.cut(train_data[\"Age\"], bins, labels=labels)\n",
    "\n",
    "# Preparing the data for plotting\n",
    "age_group_survival = train_data.groupby(['AgeGroup', 'Survived']).size().unstack()\n",
    "age_group_survival.columns = ['Did Not Survive', 'Survived']\n",
    "age_group_survival['Survival Percentage'] = (age_group_survival['Survived'] / age_group_survival.sum(axis=1)) * 100\n",
    "\n",
    "# Plotting\n",
    "age_group_survival['Survival Percentage'].plot(kind='bar', figsize = (6,3))\n",
    "\n",
    "# Adding titles and labels\n",
    "plt.title('Percentage of Survival by Age Group')\n",
    "plt.xlabel('Age Group')\n",
    "plt.ylabel('Percentage')\n",
    "plt.xticks(rotation=45)\n",
    "plt.show()"
   ]
  },
  {
   "cell_type": "markdown",
   "id": "b67db48b",
   "metadata": {},
   "source": [
    "In the bar chart: It seems the younger you are, the more likely you are to surivive, as a toddler (0-4) has the greatest chance until Senior (64+)"
   ]
  },
  {
   "cell_type": "code",
   "execution_count": 24,
   "id": "d8d1ce8d",
   "metadata": {
    "scrolled": false
   },
   "outputs": [
    {
     "data": {
      "image/png": "[encoded data removed]",
      "text/plain": [
       "<Figure size 600x300 with 1 Axes>"
      ]
     },
     "metadata": {},
     "output_type": "display_data"
    }
   ],
   "source": [
    "# Filtering out ages less than 0\n",
    "filtered_data = train_data[train_data['Age'] >= 0] # So it doesn't account for the -1 Nan Values.\n",
    "# Just for fun. As seen here, most people are between 20 to 30.\n",
    "count, bin_edgesAge = np.histogram(filtered_data['Age'])\n",
    "filtered_data['Age'].plot(kind='hist', bins = 10, figsize=(6,3), xticks = bin_edgesAge)\n",
    "plt.title('Histogram of Age')\n",
    "plt.ylabel('People')\n",
    "plt.xlabel('Age')\n",
    "plt.show()"
   ]
  },
  {
   "cell_type": "markdown",
   "id": "065b54b3",
   "metadata": {},
   "source": [
    "In the Histogram: The number of 16 to 32 year olds surviving was highest."
   ]
  },
  {
   "cell_type": "code",
   "execution_count": 25,
   "id": "87ba9f20",
   "metadata": {},
   "outputs": [],
   "source": [
    "# Ensure age group values exist for test set.\n",
    "test_data[\"Age\"] = test_data[\"Age\"].fillna(-1)   #Filling 'Age' NA values with '-1'\n",
    "bins = [-2, 0, 4, 12, 18, 35, 64, np.inf]\n",
    "labels = ['Unknown', 'Toddler', 'Child', 'Teen', 'Young Adult', 'Adult', 'Senior']\n",
    "test_data['AgeGroup'] = pd.cut(test_data[\"Age\"], bins, labels=labels)\n",
    "\n",
    "# Converting 'Age' -1 values back to Nan\n",
    "train_data['Age'] = train_data['Age'].replace(-1, np.nan)\n",
    "test_data['Age'] = test_data['Age'].replace(-1, np.nan)"
   ]
  },
  {
   "cell_type": "code",
   "execution_count": 26,
   "id": "8ef10d78",
   "metadata": {
    "scrolled": true
   },
   "outputs": [
    {
     "data": {
      "image/png": "[encoded data removed]",
      "text/plain": [
       "<Figure size 600x300 with 1 Axes>"
      ]
     },
     "metadata": {},
     "output_type": "display_data"
    }
   ],
   "source": [
    "# SIBLNIG ON BOARD BARPLOT SURVIVAL COMPARISON\n",
    "# Preparing the data for plotting\n",
    "count_siblings = train_data.groupby(['SibSp', 'Survived']).size().unstack()\n",
    "\n",
    "# Plotting\n",
    "count_siblings.plot(kind='bar', stacked=False, figsize = (6, 3))\n",
    "\n",
    "# Adding titles and labels\n",
    "plt.title('Survival Count by Sibling/Spouse Count On-Board')\n",
    "plt.xlabel('Siblings')\n",
    "plt.ylabel('Count')\n",
    "plt.xticks(rotation=0)\n",
    "plt.legend(title='Survived', labels=['No', 'Yes'])\n",
    "plt.show()"
   ]
  },
  {
   "cell_type": "markdown",
   "id": "072fed6b",
   "metadata": {},
   "source": [
    "In the Sibling/Spouse Count, it seems those with one spouse / sibling had a higher survival rate than those without one."
   ]
  },
  {
   "cell_type": "code",
   "execution_count": 27,
   "id": "735b7c2e",
   "metadata": {
    "scrolled": false
   },
   "outputs": [
    {
     "data": {
      "image/png": "[encoded data removed]",
      "text/plain": [
       "<Figure size 600x300 with 1 Axes>"
      ]
     },
     "metadata": {},
     "output_type": "display_data"
    }
   ],
   "source": [
    "# PARENT ON BOARD BARPLOT SURVIVAL COMPARISON\n",
    "# Preparing the data for plotting\n",
    "count_parents = train_data.groupby(['Parch', 'Survived']).size().unstack()\n",
    "\n",
    "# Plotting\n",
    "count_parents.plot(kind='bar', stacked=False, figsize = (6,3))\n",
    "\n",
    "# Adding titles and labels\n",
    "plt.title('Survival Count by Parent/Child Count On-Board')\n",
    "plt.xlabel('Parents')\n",
    "plt.ylabel('Count')\n",
    "plt.xticks(rotation=0)\n",
    "plt.legend(title='Survived', labels=['No', 'Yes'])\n",
    "plt.show()"
   ]
  },
  {
   "cell_type": "code",
   "execution_count": 28,
   "id": "a92822b7",
   "metadata": {
    "scrolled": true
   },
   "outputs": [
    {
     "data": {
      "image/png": "[encoded data removed]",
      "text/plain": [
       "<Figure size 600x300 with 1 Axes>"
      ]
     },
     "metadata": {},
     "output_type": "display_data"
    }
   ],
   "source": [
    "# Histogram of fair costs. Again, for fun. Don't know if this is totally useful. \n",
    "count, bin_edges = np.histogram(train_data['Fare'])\n",
    "train_data['Fare'].plot(kind='hist', bins = 10, figsize=(6,3), xticks = bin_edges)\n",
    "plt.title('Histogram of Fare')\n",
    "plt.ylabel('People')\n",
    "plt.xlabel('Fare Costs')\n",
    "plt.show()\n",
    "\n",
    "#\n",
    "# Histograms are traditionally used to visualize the distribution of a single continuous variable, \n",
    "# rather than the relationship between two continuous variables."
   ]
  },
  {
   "cell_type": "markdown",
   "id": "6a6c3fd4",
   "metadata": {},
   "source": [
    "As seen here, most people spent between 0 to $51.20 dollars."
   ]
  },
  {
   "cell_type": "code",
   "execution_count": 29,
   "id": "e3aeaa98",
   "metadata": {
    "scrolled": true
   },
   "outputs": [
    {
     "data": {
      "image/png": "[encoded data removed]",
      "text/plain": [
       "<Figure size 400x300 with 1 Axes>"
      ]
     },
     "metadata": {},
     "output_type": "display_data"
    }
   ],
   "source": [
    "# Creating a boxplot of the 'Fare' column\n",
    "plt.figure(figsize=(4, 3))\n",
    "train_data['Fare'].plot(kind='box')\n",
    "\n",
    "# Adding a title and labels\n",
    "plt.title('Boxplot of Fares on the Titanic')\n",
    "plt.ylabel('Fare')\n",
    "\n",
    "# Display the plot\n",
    "plt.show()"
   ]
  },
  {
   "cell_type": "markdown",
   "id": "e98b2792",
   "metadata": {},
   "source": [
    "There are quite a few outliers who spend way more than the median."
   ]
  },
  {
   "cell_type": "code",
   "execution_count": 30,
   "id": "a4d4db3a",
   "metadata": {},
   "outputs": [
    {
     "data": {
      "image/png": "[encoded data removed]",
      "text/plain": [
       "<Figure size 600x300 with 1 Axes>"
      ]
     },
     "metadata": {},
     "output_type": "display_data"
    }
   ],
   "source": [
    "# PASSENGER EMBARKED BARPLOT SURVIVAL COMPARISON\n",
    "# Preparing the data for plotting\n",
    "count_class = train_data.groupby(['Embarked', 'Survived']).size().unstack()\n",
    "\n",
    "# Plotting\n",
    "count_class.plot(kind='bar', stacked=False, figsize=(6, 3))\n",
    "\n",
    "# Adding titles and labels\n",
    "plt.title('Survival Count by Embark Port')\n",
    "plt.xlabel('Embark Port')\n",
    "plt.ylabel('Count')\n",
    "# plt.xticks(ticks=[0, 1, 2], labels=['1st Class', '2nd Class', '3rd Class'], rotation=0)\n",
    "plt.legend(title='Survived', labels=['No', 'Yes'])\n",
    "plt.show()"
   ]
  },
  {
   "cell_type": "markdown",
   "id": "b8829ced",
   "metadata": {},
   "source": [
    "People from Cherbourg & Queenstown have higher survival chances proportinally than Southampton"
   ]
  },
  {
   "cell_type": "code",
   "execution_count": 31,
   "id": "94596e2b",
   "metadata": {
    "scrolled": true
   },
   "outputs": [
    {
     "data": {
      "image/png": "[encoded data removed]",
      "text/plain": [
       "<Figure size 300x500 with 1 Axes>"
      ]
     },
     "metadata": {},
     "output_type": "display_data"
    }
   ],
   "source": [
    "# Count the occurrences of each category in 'Embarked'\n",
    "df_embarked = train_data['Embarked'].value_counts()\n",
    "\n",
    "# Plotting the counts as a pie chart\n",
    "df_embarked.plot(kind='pie',\n",
    "                 figsize=(3, 5),\n",
    "                 autopct='%1.1f%%',  # Add in percentages\n",
    "                 startangle=90,\n",
    "                 shadow=True,\n",
    "                 explode=(0.1, 0.1, 0.1))  # Explode all segments slightly for better visualization\n",
    "\n",
    "plt.title('Passenger Embark Points')\n",
    "plt.show()\n"
   ]
  },
  {
   "cell_type": "markdown",
   "id": "e9de61ca",
   "metadata": {},
   "source": [
    "More people, according to the bar chart, survived from Sothhampton"
   ]
  },
  {
   "cell_type": "markdown",
   "id": "d7e12e5b",
   "metadata": {},
   "source": [
    "<font color=\"darkred\" size=\"5\">Cleaning the Data</font>"
   ]
  },
  {
   "cell_type": "markdown",
   "id": "50da3483",
   "metadata": {},
   "source": [
    "1. Dealing with Indicators (Mr, Dr, Miss, Etc.). This is attached to their names."
   ]
  },
  {
   "cell_type": "code",
   "execution_count": 32,
   "id": "dda46b21",
   "metadata": {},
   "outputs": [
    {
     "data": {
      "text/html": [
       "<div>\n",
       "<style scoped>\n",
       "    .dataframe tbody tr th:only-of-type {\n",
       "        vertical-align: middle;\n",
       "    }\n",
       "\n",
       "    .dataframe tbody tr th {\n",
       "        vertical-align: top;\n",
       "    }\n",
       "\n",
       "    .dataframe thead th {\n",
       "        text-align: right;\n",
       "    }\n",
       "</style>\n",
       "<table border=\"1\" class=\"dataframe\">\n",
       "  <thead>\n",
       "    <tr style=\"text-align: right;\">\n",
       "      <th></th>\n",
       "      <th>PassengerId</th>\n",
       "      <th>Survived</th>\n",
       "      <th>Pclass</th>\n",
       "      <th>Name</th>\n",
       "      <th>Sex</th>\n",
       "      <th>Age</th>\n",
       "      <th>SibSp</th>\n",
       "      <th>Parch</th>\n",
       "      <th>Ticket</th>\n",
       "      <th>Fare</th>\n",
       "      <th>Cabin</th>\n",
       "      <th>Embarked</th>\n",
       "      <th>AgeGroup</th>\n",
       "      <th>Indicator</th>\n",
       "    </tr>\n",
       "  </thead>\n",
       "  <tbody>\n",
       "    <tr>\n",
       "      <th>18</th>\n",
       "      <td>19</td>\n",
       "      <td>0</td>\n",
       "      <td>3</td>\n",
       "      <td>Vander Planke, Mrs. Julius (Emelia Maria Vande...</td>\n",
       "      <td>female</td>\n",
       "      <td>31.0</td>\n",
       "      <td>1</td>\n",
       "      <td>0</td>\n",
       "      <td>345763</td>\n",
       "      <td>18.0000</td>\n",
       "      <td>NaN</td>\n",
       "      <td>S</td>\n",
       "      <td>Young Adult</td>\n",
       "      <td>Mrs</td>\n",
       "    </tr>\n",
       "    <tr>\n",
       "      <th>128</th>\n",
       "      <td>129</td>\n",
       "      <td>1</td>\n",
       "      <td>3</td>\n",
       "      <td>Peter, Miss. Anna</td>\n",
       "      <td>female</td>\n",
       "      <td>NaN</td>\n",
       "      <td>1</td>\n",
       "      <td>1</td>\n",
       "      <td>2668</td>\n",
       "      <td>22.3583</td>\n",
       "      <td>F E69</td>\n",
       "      <td>C</td>\n",
       "      <td>Unknown</td>\n",
       "      <td>Miss</td>\n",
       "    </tr>\n",
       "    <tr>\n",
       "      <th>358</th>\n",
       "      <td>359</td>\n",
       "      <td>1</td>\n",
       "      <td>3</td>\n",
       "      <td>McGovern, Miss. Mary</td>\n",
       "      <td>female</td>\n",
       "      <td>NaN</td>\n",
       "      <td>0</td>\n",
       "      <td>0</td>\n",
       "      <td>330931</td>\n",
       "      <td>7.8792</td>\n",
       "      <td>NaN</td>\n",
       "      <td>Q</td>\n",
       "      <td>Unknown</td>\n",
       "      <td>Miss</td>\n",
       "    </tr>\n",
       "    <tr>\n",
       "      <th>89</th>\n",
       "      <td>90</td>\n",
       "      <td>0</td>\n",
       "      <td>3</td>\n",
       "      <td>Celotti, Mr. Francesco</td>\n",
       "      <td>male</td>\n",
       "      <td>24.0</td>\n",
       "      <td>0</td>\n",
       "      <td>0</td>\n",
       "      <td>343275</td>\n",
       "      <td>8.0500</td>\n",
       "      <td>NaN</td>\n",
       "      <td>S</td>\n",
       "      <td>Young Adult</td>\n",
       "      <td>Mr</td>\n",
       "    </tr>\n",
       "    <tr>\n",
       "      <th>476</th>\n",
       "      <td>477</td>\n",
       "      <td>0</td>\n",
       "      <td>2</td>\n",
       "      <td>Renouf, Mr. Peter Henry</td>\n",
       "      <td>male</td>\n",
       "      <td>34.0</td>\n",
       "      <td>1</td>\n",
       "      <td>0</td>\n",
       "      <td>31027</td>\n",
       "      <td>21.0000</td>\n",
       "      <td>NaN</td>\n",
       "      <td>S</td>\n",
       "      <td>Young Adult</td>\n",
       "      <td>Mr</td>\n",
       "    </tr>\n",
       "  </tbody>\n",
       "</table>\n",
       "</div>"
      ],
      "text/plain": [
       "     PassengerId  Survived  Pclass  \\\n",
       "18            19         0       3   \n",
       "128          129         1       3   \n",
       "358          359         1       3   \n",
       "89            90         0       3   \n",
       "476          477         0       2   \n",
       "\n",
       "                                                  Name     Sex   Age  SibSp  \\\n",
       "18   Vander Planke, Mrs. Julius (Emelia Maria Vande...  female  31.0      1   \n",
       "128                                  Peter, Miss. Anna  female   NaN      1   \n",
       "358                               McGovern, Miss. Mary  female   NaN      0   \n",
       "89                              Celotti, Mr. Francesco    male  24.0      0   \n",
       "476                            Renouf, Mr. Peter Henry    male  34.0      1   \n",
       "\n",
       "     Parch  Ticket     Fare  Cabin Embarked     AgeGroup Indicator  \n",
       "18       0  345763  18.0000    NaN        S  Young Adult       Mrs  \n",
       "128      1    2668  22.3583  F E69        C      Unknown      Miss  \n",
       "358      0  330931   7.8792    NaN        Q      Unknown      Miss  \n",
       "89       0  343275   8.0500    NaN        S  Young Adult        Mr  \n",
       "476      0   31027  21.0000    NaN        S  Young Adult        Mr  "
      ]
     },
     "execution_count": 32,
     "metadata": {},
     "output_type": "execute_result"
    }
   ],
   "source": [
    "# Seperate Indicators from peoples' names (Ms., Mr., etc.)\n",
    "# Split the name at the comma and take the second part, then split at the period and take the first part\n",
    "train_data['Indicator'] = train_data['Name'].apply(lambda x: x.split(',')[1].split('.')[0].strip())\n",
    "test_data['Indicator'] = test_data['Name'].apply(lambda x: x.split(',')[1].split('.')[0].strip())\n",
    "# Display the first few rows to verify\n",
    "train_data.sample(5)"
   ]
  },
  {
   "cell_type": "code",
   "execution_count": 33,
   "id": "f677573b",
   "metadata": {
    "scrolled": true
   },
   "outputs": [
    {
     "data": {
      "text/plain": [
       "Indicator\n",
       "Mr              517\n",
       "Miss            182\n",
       "Mrs             125\n",
       "Master           40\n",
       "Dr                7\n",
       "Rev               6\n",
       "Mlle              2\n",
       "Major             2\n",
       "Col               2\n",
       "the Countess      1\n",
       "Capt              1\n",
       "Ms                1\n",
       "Sir               1\n",
       "Lady              1\n",
       "Mme               1\n",
       "Don               1\n",
       "Jonkheer          1\n",
       "Name: count, dtype: int64"
      ]
     },
     "execution_count": 33,
     "metadata": {},
     "output_type": "execute_result"
    }
   ],
   "source": [
    "train_data['Indicator'].value_counts()"
   ]
  },
  {
   "cell_type": "markdown",
   "id": "11bd5b1b",
   "metadata": {},
   "source": [
    "2. Dealing with \"Age\""
   ]
  },
  {
   "cell_type": "code",
   "execution_count": 34,
   "id": "38394a16",
   "metadata": {
    "scrolled": true
   },
   "outputs": [
    {
     "name": "stdout",
     "output_type": "stream",
     "text": [
      "Indicator\n",
      "Mr                     517\n",
      "Miss                   185\n",
      "Mrs                    126\n",
      "Master                  40\n",
      "Military & Nobility     10\n",
      "Dr                       7\n",
      "Rev                      6\n",
      "Name: count, dtype: int64\n",
      "Indicator\n",
      "Mr                     240\n",
      "Miss                    79\n",
      "Mrs                     72\n",
      "Master                  21\n",
      "Military & Nobility      2\n",
      "Rev                      2\n",
      "Dr                       1\n",
      "Name: count, dtype: int64\n"
     ]
    }
   ],
   "source": [
    "# FIXING Nan values for \"Age\".\n",
    "# Mapping dictionary for similar groups\n",
    "title_mapping = {\n",
    "    \"Mr\": \"Mr\", \n",
    "    \"Miss\": \"Miss\", \n",
    "    \"Mrs\": \"Mrs\",\n",
    "    \"Master\": \"Master\",\n",
    "    \"Dr\": \"Dr\",\n",
    "    \"Rev\": \"Rev\",\n",
    "    \"Mlle\": \"Miss\",  # Grouping Mlle under Miss\n",
    "    \"Major\": \"Military & Nobility\",\n",
    "    \"Col\": \"Military & Nobility\",\n",
    "    \"the Countess\": \"Military & Nobility\",\n",
    "    \"Capt\": \"Military & Nobility\",\n",
    "    \"Ms\": \"Miss\",\n",
    "    \"Sir\": \"Military & Nobility\",\n",
    "    \"Lady\": \"Military & Nobility\",\n",
    "    \"Mme\": \"Mrs\",   # Grouping Mme under Mrs\n",
    "    \"Don\": \"Military & Nobility\",\n",
    "    \"Jonkheer\": \"Military & Nobility\"\n",
    "}\n",
    "\n",
    "# Apply mapping to the 'Indicator' column\n",
    "train_data['Indicator'] = train_data['Indicator'].map(title_mapping)\n",
    "test_data['Indicator'] = test_data['Indicator'].map(title_mapping)\n",
    "\n",
    "# Display the counts for each level of 'Indicator'\n",
    "print(train_data['Indicator'].value_counts())\n",
    "print(test_data['Indicator'].value_counts())"
   ]
  },
  {
   "cell_type": "code",
   "execution_count": 35,
   "id": "f6162676",
   "metadata": {},
   "outputs": [
    {
     "data": {
      "text/plain": [
       "245    44.0\n",
       "317    54.0\n",
       "398    23.0\n",
       "632    32.0\n",
       "660    50.0\n",
       "766     NaN\n",
       "796    49.0\n",
       "Name: Age, dtype: float64"
      ]
     },
     "execution_count": 35,
     "metadata": {},
     "output_type": "execute_result"
    }
   ],
   "source": [
    "#Change the 'Dr' to any other Generalized Indicator to see the ages of those in the group.\n",
    "train_data.loc[train_data['Indicator'] == 'Dr', 'Age'] "
   ]
  },
  {
   "cell_type": "code",
   "execution_count": 36,
   "id": "9a344ecb",
   "metadata": {},
   "outputs": [],
   "source": [
    "def fill_missing_ages(data):\n",
    "    # Determine the most common age group for each 'GeneralizedIndicator'\n",
    "    most_common_age_group = data.groupby('Indicator')['AgeGroup'].agg(lambda x: x.value_counts().idxmax())\n",
    "\n",
    "    # Determine the median age for each age group\n",
    "    age_group_to_median_age = data.groupby('AgeGroup')['Age'].median()\n",
    "\n",
    "    # Fill missing ages\n",
    "    for indicator, age_group in most_common_age_group.items():\n",
    "        median_age = age_group_to_median_age[age_group]\n",
    "        data.loc[(data['Age'].isna()) & (data['Indicator'] == indicator), 'Age'] = median_age\n",
    "\n",
    "    return data\n",
    "\n",
    "# Apply the function to your train_data\n",
    "train_data = fill_missing_ages(train_data)\n",
    "test_data = fill_missing_ages(test_data)"
   ]
  },
  {
   "cell_type": "code",
   "execution_count": 37,
   "id": "885e9ad0",
   "metadata": {},
   "outputs": [
    {
     "data": {
      "text/html": [
       "<div>\n",
       "<style scoped>\n",
       "    .dataframe tbody tr th:only-of-type {\n",
       "        vertical-align: middle;\n",
       "    }\n",
       "\n",
       "    .dataframe tbody tr th {\n",
       "        vertical-align: top;\n",
       "    }\n",
       "\n",
       "    .dataframe thead th {\n",
       "        text-align: right;\n",
       "    }\n",
       "</style>\n",
       "<table border=\"1\" class=\"dataframe\">\n",
       "  <thead>\n",
       "    <tr style=\"text-align: right;\">\n",
       "      <th></th>\n",
       "      <th>Indicator</th>\n",
       "      <th>Fare</th>\n",
       "    </tr>\n",
       "  </thead>\n",
       "  <tbody>\n",
       "    <tr>\n",
       "      <th>0</th>\n",
       "      <td>Dr</td>\n",
       "      <td>81.858300</td>\n",
       "    </tr>\n",
       "    <tr>\n",
       "      <th>1</th>\n",
       "      <td>Master</td>\n",
       "      <td>38.494043</td>\n",
       "    </tr>\n",
       "    <tr>\n",
       "      <th>2</th>\n",
       "      <td>Military &amp; Nobility</td>\n",
       "      <td>128.012500</td>\n",
       "    </tr>\n",
       "    <tr>\n",
       "      <th>3</th>\n",
       "      <td>Miss</td>\n",
       "      <td>39.678535</td>\n",
       "    </tr>\n",
       "    <tr>\n",
       "      <th>4</th>\n",
       "      <td>Mr</td>\n",
       "      <td>25.563302</td>\n",
       "    </tr>\n",
       "    <tr>\n",
       "      <th>5</th>\n",
       "      <td>Mrs</td>\n",
       "      <td>59.974249</td>\n",
       "    </tr>\n",
       "    <tr>\n",
       "      <th>6</th>\n",
       "      <td>Rev</td>\n",
       "      <td>19.500000</td>\n",
       "    </tr>\n",
       "  </tbody>\n",
       "</table>\n",
       "</div>"
      ],
      "text/plain": [
       "             Indicator        Fare\n",
       "0                   Dr   81.858300\n",
       "1               Master   38.494043\n",
       "2  Military & Nobility  128.012500\n",
       "3                 Miss   39.678535\n",
       "4                   Mr   25.563302\n",
       "5                  Mrs   59.974249\n",
       "6                  Rev   19.500000"
      ]
     },
     "execution_count": 37,
     "metadata": {},
     "output_type": "execute_result"
    }
   ],
   "source": [
    "#Just some fun querying\n",
    "train_data[['Indicator', 'Survived']].groupby(['Indicator'], as_index=False).mean()\n",
    "test_data[['Indicator', 'Fare']].groupby(['Indicator'], as_index=False).mean()"
   ]
  },
  {
   "cell_type": "markdown",
   "id": "533058b4",
   "metadata": {},
   "source": [
    "3. Dealing with \"Cabin\", \"Ticket\", and \"Name\""
   ]
  },
  {
   "cell_type": "code",
   "execution_count": 38,
   "id": "81bf124f",
   "metadata": {},
   "outputs": [],
   "source": [
    "#Dropping \"Cabin\", \"Ticket\", and \"Name\" since not improtant predictors.\n",
    "train_data = train_data.drop(['Cabin'], axis = 1)    # Many missing values and not important\n",
    "train_data = train_data.drop(['Ticket'], axis = 1)   # Not Important and Random\n",
    "# train_data = train_data.drop(['Embarked'], axis = 1) # Maybe. Logical Conundrum\n",
    "train_data = train_data.drop(['Name'], axis = 1)\n",
    "\n",
    "test_data = test_data.drop(['Cabin'], axis = 1)\n",
    "test_data = test_data.drop(['Ticket'], axis = 1)\n",
    "# test_data = test_data.drop(['Embarked'], axis = 1)  # Maybe. Logical Conundrum\n",
    "test_data = test_data.drop(['Name'], axis = 1)"
   ]
  },
  {
   "cell_type": "markdown",
   "id": "b6c7d514",
   "metadata": {},
   "source": [
    "4. Dealing with \"Embarked\" and \"Fare\""
   ]
  },
  {
   "cell_type": "code",
   "execution_count": 39,
   "id": "dac20d0a",
   "metadata": {},
   "outputs": [],
   "source": [
    "# Replacing the missing value of \"fare\" in the test set with \"Embarked\" in the train set. \n",
    "# Has less than 3% Missing values.\n",
    "train_data = train_data.dropna(subset=['Embarked'])\n",
    "test_data_ = test_data['Fare'].fillna(test_data['Fare'].mean(), inplace=True)"
   ]
  },
  {
   "cell_type": "markdown",
   "id": "eb0d5cf5",
   "metadata": {},
   "source": [
    "5. Converting categorical values into dummies."
   ]
  },
  {
   "cell_type": "code",
   "execution_count": 40,
   "id": "144863cf",
   "metadata": {},
   "outputs": [
    {
     "data": {
      "text/html": [
       "<div>\n",
       "<style scoped>\n",
       "    .dataframe tbody tr th:only-of-type {\n",
       "        vertical-align: middle;\n",
       "    }\n",
       "\n",
       "    .dataframe tbody tr th {\n",
       "        vertical-align: top;\n",
       "    }\n",
       "\n",
       "    .dataframe thead th {\n",
       "        text-align: right;\n",
       "    }\n",
       "</style>\n",
       "<table border=\"1\" class=\"dataframe\">\n",
       "  <thead>\n",
       "    <tr style=\"text-align: right;\">\n",
       "      <th></th>\n",
       "      <th>PassengerId</th>\n",
       "      <th>Survived</th>\n",
       "      <th>Pclass</th>\n",
       "      <th>Sex</th>\n",
       "      <th>Age</th>\n",
       "      <th>SibSp</th>\n",
       "      <th>Parch</th>\n",
       "      <th>Fare</th>\n",
       "      <th>Embarked</th>\n",
       "      <th>AgeGroup</th>\n",
       "      <th>Indicator</th>\n",
       "    </tr>\n",
       "  </thead>\n",
       "  <tbody>\n",
       "    <tr>\n",
       "      <th>0</th>\n",
       "      <td>1</td>\n",
       "      <td>0</td>\n",
       "      <td>3</td>\n",
       "      <td>male</td>\n",
       "      <td>22.0</td>\n",
       "      <td>1</td>\n",
       "      <td>0</td>\n",
       "      <td>7.2500</td>\n",
       "      <td>S</td>\n",
       "      <td>Young Adult</td>\n",
       "      <td>Mr</td>\n",
       "    </tr>\n",
       "    <tr>\n",
       "      <th>1</th>\n",
       "      <td>2</td>\n",
       "      <td>1</td>\n",
       "      <td>1</td>\n",
       "      <td>female</td>\n",
       "      <td>38.0</td>\n",
       "      <td>1</td>\n",
       "      <td>0</td>\n",
       "      <td>71.2833</td>\n",
       "      <td>C</td>\n",
       "      <td>Adult</td>\n",
       "      <td>Mrs</td>\n",
       "    </tr>\n",
       "    <tr>\n",
       "      <th>2</th>\n",
       "      <td>3</td>\n",
       "      <td>1</td>\n",
       "      <td>3</td>\n",
       "      <td>female</td>\n",
       "      <td>26.0</td>\n",
       "      <td>0</td>\n",
       "      <td>0</td>\n",
       "      <td>7.9250</td>\n",
       "      <td>S</td>\n",
       "      <td>Young Adult</td>\n",
       "      <td>Miss</td>\n",
       "    </tr>\n",
       "    <tr>\n",
       "      <th>3</th>\n",
       "      <td>4</td>\n",
       "      <td>1</td>\n",
       "      <td>1</td>\n",
       "      <td>female</td>\n",
       "      <td>35.0</td>\n",
       "      <td>1</td>\n",
       "      <td>0</td>\n",
       "      <td>53.1000</td>\n",
       "      <td>S</td>\n",
       "      <td>Young Adult</td>\n",
       "      <td>Mrs</td>\n",
       "    </tr>\n",
       "    <tr>\n",
       "      <th>4</th>\n",
       "      <td>5</td>\n",
       "      <td>0</td>\n",
       "      <td>3</td>\n",
       "      <td>male</td>\n",
       "      <td>35.0</td>\n",
       "      <td>0</td>\n",
       "      <td>0</td>\n",
       "      <td>8.0500</td>\n",
       "      <td>S</td>\n",
       "      <td>Young Adult</td>\n",
       "      <td>Mr</td>\n",
       "    </tr>\n",
       "  </tbody>\n",
       "</table>\n",
       "</div>"
      ],
      "text/plain": [
       "   PassengerId  Survived  Pclass     Sex   Age  SibSp  Parch     Fare  \\\n",
       "0            1         0       3    male  22.0      1      0   7.2500   \n",
       "1            2         1       1  female  38.0      1      0  71.2833   \n",
       "2            3         1       3  female  26.0      0      0   7.9250   \n",
       "3            4         1       1  female  35.0      1      0  53.1000   \n",
       "4            5         0       3    male  35.0      0      0   8.0500   \n",
       "\n",
       "  Embarked     AgeGroup Indicator  \n",
       "0        S  Young Adult        Mr  \n",
       "1        C        Adult       Mrs  \n",
       "2        S  Young Adult      Miss  \n",
       "3        S  Young Adult       Mrs  \n",
       "4        S  Young Adult        Mr  "
      ]
     },
     "execution_count": 40,
     "metadata": {},
     "output_type": "execute_result"
    }
   ],
   "source": [
    "train_data.head()"
   ]
  },
  {
   "cell_type": "code",
   "execution_count": 41,
   "id": "bcf93dee",
   "metadata": {},
   "outputs": [],
   "source": [
    "# Create dummy variables for train_data and test_data\n",
    "train_data = pd.get_dummies(train_data, columns=['Sex', 'Embarked', 'AgeGroup', 'Indicator'], drop_first=True)\n",
    "test_data = pd.get_dummies(test_data, columns=['Sex', 'Embarked', 'AgeGroup', 'Indicator'], drop_first=True)\n",
    "\n",
    "# Align the columns of train_data and test_data, fill missing columns with zeroes\n",
    "train_data, test_data = train_data.align(test_data, join='outer', axis=1, fill_value=0)\n",
    "\n",
    "# If only doing one at a time:\n",
    "# train_data = pd.get_dummies(train_data, columns = ['Sex', 'Embarked', 'AgeGroup', 'Indicator'], drop_first=True)"
   ]
  },
  {
   "cell_type": "code",
   "execution_count": 42,
   "id": "ea7f36ec",
   "metadata": {},
   "outputs": [
    {
     "data": {
      "text/html": [
       "<div>\n",
       "<style scoped>\n",
       "    .dataframe tbody tr th:only-of-type {\n",
       "        vertical-align: middle;\n",
       "    }\n",
       "\n",
       "    .dataframe tbody tr th {\n",
       "        vertical-align: top;\n",
       "    }\n",
       "\n",
       "    .dataframe thead th {\n",
       "        text-align: right;\n",
       "    }\n",
       "</style>\n",
       "<table border=\"1\" class=\"dataframe\">\n",
       "  <thead>\n",
       "    <tr style=\"text-align: right;\">\n",
       "      <th></th>\n",
       "      <th>Age</th>\n",
       "      <th>AgeGroup_Adult</th>\n",
       "      <th>AgeGroup_Child</th>\n",
       "      <th>AgeGroup_Senior</th>\n",
       "      <th>AgeGroup_Teen</th>\n",
       "      <th>AgeGroup_Toddler</th>\n",
       "      <th>AgeGroup_Young Adult</th>\n",
       "      <th>Embarked_Q</th>\n",
       "      <th>Embarked_S</th>\n",
       "      <th>Fare</th>\n",
       "      <th>...</th>\n",
       "      <th>Indicator_Miss</th>\n",
       "      <th>Indicator_Mr</th>\n",
       "      <th>Indicator_Mrs</th>\n",
       "      <th>Indicator_Rev</th>\n",
       "      <th>Parch</th>\n",
       "      <th>PassengerId</th>\n",
       "      <th>Pclass</th>\n",
       "      <th>Sex_male</th>\n",
       "      <th>SibSp</th>\n",
       "      <th>Survived</th>\n",
       "    </tr>\n",
       "  </thead>\n",
       "  <tbody>\n",
       "    <tr>\n",
       "      <th>0</th>\n",
       "      <td>22.0</td>\n",
       "      <td>False</td>\n",
       "      <td>False</td>\n",
       "      <td>False</td>\n",
       "      <td>False</td>\n",
       "      <td>False</td>\n",
       "      <td>True</td>\n",
       "      <td>False</td>\n",
       "      <td>True</td>\n",
       "      <td>7.2500</td>\n",
       "      <td>...</td>\n",
       "      <td>False</td>\n",
       "      <td>True</td>\n",
       "      <td>False</td>\n",
       "      <td>False</td>\n",
       "      <td>0</td>\n",
       "      <td>1</td>\n",
       "      <td>3</td>\n",
       "      <td>True</td>\n",
       "      <td>1</td>\n",
       "      <td>0</td>\n",
       "    </tr>\n",
       "    <tr>\n",
       "      <th>1</th>\n",
       "      <td>38.0</td>\n",
       "      <td>True</td>\n",
       "      <td>False</td>\n",
       "      <td>False</td>\n",
       "      <td>False</td>\n",
       "      <td>False</td>\n",
       "      <td>False</td>\n",
       "      <td>False</td>\n",
       "      <td>False</td>\n",
       "      <td>71.2833</td>\n",
       "      <td>...</td>\n",
       "      <td>False</td>\n",
       "      <td>False</td>\n",
       "      <td>True</td>\n",
       "      <td>False</td>\n",
       "      <td>0</td>\n",
       "      <td>2</td>\n",
       "      <td>1</td>\n",
       "      <td>False</td>\n",
       "      <td>1</td>\n",
       "      <td>1</td>\n",
       "    </tr>\n",
       "  </tbody>\n",
       "</table>\n",
       "<p>2 rows × 22 columns</p>\n",
       "</div>"
      ],
      "text/plain": [
       "    Age  AgeGroup_Adult  AgeGroup_Child  AgeGroup_Senior  AgeGroup_Teen  \\\n",
       "0  22.0           False           False            False          False   \n",
       "1  38.0            True           False            False          False   \n",
       "\n",
       "   AgeGroup_Toddler  AgeGroup_Young Adult  Embarked_Q  Embarked_S     Fare  \\\n",
       "0             False                  True       False        True   7.2500   \n",
       "1             False                 False       False       False  71.2833   \n",
       "\n",
       "   ...  Indicator_Miss  Indicator_Mr  Indicator_Mrs  Indicator_Rev  Parch  \\\n",
       "0  ...           False          True          False          False      0   \n",
       "1  ...           False         False           True          False      0   \n",
       "\n",
       "   PassengerId  Pclass  Sex_male  SibSp  Survived  \n",
       "0            1       3      True      1         0  \n",
       "1            2       1     False      1         1  \n",
       "\n",
       "[2 rows x 22 columns]"
      ]
     },
     "execution_count": 42,
     "metadata": {},
     "output_type": "execute_result"
    }
   ],
   "source": [
    "train_data.head(2)"
   ]
  },
  {
   "cell_type": "code",
   "execution_count": 43,
   "id": "5d417eb0",
   "metadata": {},
   "outputs": [
    {
     "data": {
      "text/html": [
       "<div>\n",
       "<style scoped>\n",
       "    .dataframe tbody tr th:only-of-type {\n",
       "        vertical-align: middle;\n",
       "    }\n",
       "\n",
       "    .dataframe tbody tr th {\n",
       "        vertical-align: top;\n",
       "    }\n",
       "\n",
       "    .dataframe thead th {\n",
       "        text-align: right;\n",
       "    }\n",
       "</style>\n",
       "<table border=\"1\" class=\"dataframe\">\n",
       "  <thead>\n",
       "    <tr style=\"text-align: right;\">\n",
       "      <th></th>\n",
       "      <th>Age</th>\n",
       "      <th>AgeGroup_Adult</th>\n",
       "      <th>AgeGroup_Child</th>\n",
       "      <th>AgeGroup_Senior</th>\n",
       "      <th>AgeGroup_Teen</th>\n",
       "      <th>AgeGroup_Toddler</th>\n",
       "      <th>AgeGroup_Young Adult</th>\n",
       "      <th>Embarked_Q</th>\n",
       "      <th>Embarked_S</th>\n",
       "      <th>Fare</th>\n",
       "      <th>...</th>\n",
       "      <th>Indicator_Miss</th>\n",
       "      <th>Indicator_Mr</th>\n",
       "      <th>Indicator_Mrs</th>\n",
       "      <th>Indicator_Rev</th>\n",
       "      <th>Parch</th>\n",
       "      <th>PassengerId</th>\n",
       "      <th>Pclass</th>\n",
       "      <th>Sex_male</th>\n",
       "      <th>SibSp</th>\n",
       "      <th>Survived</th>\n",
       "    </tr>\n",
       "  </thead>\n",
       "  <tbody>\n",
       "    <tr>\n",
       "      <th>0</th>\n",
       "      <td>34.5</td>\n",
       "      <td>False</td>\n",
       "      <td>False</td>\n",
       "      <td>False</td>\n",
       "      <td>False</td>\n",
       "      <td>False</td>\n",
       "      <td>True</td>\n",
       "      <td>True</td>\n",
       "      <td>False</td>\n",
       "      <td>7.8292</td>\n",
       "      <td>...</td>\n",
       "      <td>False</td>\n",
       "      <td>True</td>\n",
       "      <td>False</td>\n",
       "      <td>False</td>\n",
       "      <td>0</td>\n",
       "      <td>892</td>\n",
       "      <td>3</td>\n",
       "      <td>True</td>\n",
       "      <td>0</td>\n",
       "      <td>0</td>\n",
       "    </tr>\n",
       "    <tr>\n",
       "      <th>1</th>\n",
       "      <td>47.0</td>\n",
       "      <td>True</td>\n",
       "      <td>False</td>\n",
       "      <td>False</td>\n",
       "      <td>False</td>\n",
       "      <td>False</td>\n",
       "      <td>False</td>\n",
       "      <td>False</td>\n",
       "      <td>True</td>\n",
       "      <td>7.0000</td>\n",
       "      <td>...</td>\n",
       "      <td>False</td>\n",
       "      <td>False</td>\n",
       "      <td>True</td>\n",
       "      <td>False</td>\n",
       "      <td>0</td>\n",
       "      <td>893</td>\n",
       "      <td>3</td>\n",
       "      <td>False</td>\n",
       "      <td>1</td>\n",
       "      <td>0</td>\n",
       "    </tr>\n",
       "  </tbody>\n",
       "</table>\n",
       "<p>2 rows × 22 columns</p>\n",
       "</div>"
      ],
      "text/plain": [
       "    Age  AgeGroup_Adult  AgeGroup_Child  AgeGroup_Senior  AgeGroup_Teen  \\\n",
       "0  34.5           False           False            False          False   \n",
       "1  47.0            True           False            False          False   \n",
       "\n",
       "   AgeGroup_Toddler  AgeGroup_Young Adult  Embarked_Q  Embarked_S    Fare  \\\n",
       "0             False                  True        True       False  7.8292   \n",
       "1             False                 False       False        True  7.0000   \n",
       "\n",
       "   ...  Indicator_Miss  Indicator_Mr  Indicator_Mrs  Indicator_Rev  Parch  \\\n",
       "0  ...           False          True          False          False      0   \n",
       "1  ...           False         False           True          False      0   \n",
       "\n",
       "   PassengerId  Pclass  Sex_male  SibSp  Survived  \n",
       "0          892       3      True      0         0  \n",
       "1          893       3     False      1         0  \n",
       "\n",
       "[2 rows x 22 columns]"
      ]
     },
     "execution_count": 43,
     "metadata": {},
     "output_type": "execute_result"
    }
   ],
   "source": [
    "test_data.head(2)"
   ]
  },
  {
   "cell_type": "markdown",
   "id": "2cf5dee0",
   "metadata": {},
   "source": [
    "<font color=\"darkred\" size=\"5\">Modeling</font>"
   ]
  },
  {
   "cell_type": "markdown",
   "id": "1b4c08d9",
   "metadata": {},
   "source": [
    "1. Setting up for Modelling by splitting data"
   ]
  },
  {
   "cell_type": "code",
   "execution_count": 44,
   "id": "e7a35887",
   "metadata": {},
   "outputs": [],
   "source": [
    "# Libraries\n",
    "from sklearn.model_selection import train_test_split\n",
    "from sklearn.model_selection import GridSearchCV\n",
    "from sklearn import metrics\n",
    "import matplotlib.pyplot as plt\n",
    "%matplotlib inline\n",
    "import scipy.optimize as opt\n",
    "#Trees:\n",
    "from sklearn.tree import DecisionTreeClassifier\n",
    "import sklearn.tree as tree\n",
    "# k-nearest neighbours\n",
    "from sklearn import preprocessing\n",
    "from sklearn.neighbors import KNeighborsClassifier\n",
    "#Logistic Regression\n",
    "from sklearn.linear_model import LogisticRegression\n",
    "from sklearn.metrics import jaccard_score\n",
    "from sklearn.metrics import classification_report, confusion_matrix\n",
    "import itertools\n",
    "from sklearn.metrics import log_loss\n",
    "# SVM w/ Scikit-Learn\n",
    "from sklearn import svm\n",
    "from sklearn.metrics import f1_score\n",
    "# Gradient Boosting Classifier\n",
    "from sklearn.impute import SimpleImputer\n",
    "from sklearn.ensemble import GradientBoostingClassifier\n",
    "from sklearn.metrics import accuracy_score"
   ]
  },
  {
   "cell_type": "code",
   "execution_count": 45,
   "id": "7bcbac84",
   "metadata": {},
   "outputs": [],
   "source": [
    "dvs = train_data.drop(['Survived', 'PassengerId'], axis = 1)\n",
    "iv = train_data['Survived']"
   ]
  },
  {
   "cell_type": "code",
   "execution_count": 46,
   "id": "ee545396",
   "metadata": {},
   "outputs": [
    {
     "name": "stdout",
     "output_type": "stream",
     "text": [
      "The shape of X training set (622, 20)\n",
      "The shape of X testing set (267, 20)\n",
      "The shape of Y training set (622,)\n",
      "The shape of Y testing set (267,)\n"
     ]
    }
   ],
   "source": [
    "# test_size: 0.3 means 30% will be uesd for testing. Re-run again for each model.\n",
    "# random_state: 3 ensures everytime run code, split b/w train and test remains split. Any integer works ()\n",
    "X_trainset, X_testset, y_trainset, y_testset = train_test_split(dvs, iv, test_size = 0.3, random_state = 3)\n",
    "print(\"The shape of X training set\", X_trainset.shape)\n",
    "print(\"The shape of X testing set\", X_testset.shape)\n",
    "print(\"The shape of Y training set\", y_trainset.shape)\n",
    "print(\"The shape of Y testing set\", y_testset.shape)"
   ]
  },
  {
   "cell_type": "markdown",
   "id": "4cc809d1",
   "metadata": {},
   "source": [
    "<font color = \"blue\" size=\"3\">Decision Trees</font>"
   ]
  },
  {
   "cell_type": "markdown",
   "id": "573e9dd2",
   "metadata": {},
   "source": [
    "Finding Best Parameters"
   ]
  },
  {
   "cell_type": "code",
   "execution_count": 47,
   "id": "3a9ab2b4",
   "metadata": {},
   "outputs": [
    {
     "name": "stdout",
     "output_type": "stream",
     "text": [
      "Best parameters: {'criterion': 'gini', 'max_depth': 4}\n"
     ]
    }
   ],
   "source": [
    "#Finding Best Parameters:\n",
    "\n",
    "# parameter grid\n",
    "parameter_grid = {'criterion': ['gini', 'entropy'], 'max_depth': [2, 4, 6, 8, 10, 12]}\n",
    "# Decision Tree classifier\n",
    "survive_tree = DecisionTreeClassifier()\n",
    "# Create grid search object\n",
    "grid_search = GridSearchCV(estimator = survive_tree, param_grid = parameter_grid, cv=5)\n",
    "# Fit to data\n",
    "grid_search.fit(X_trainset, y_trainset)\n",
    "\n",
    "# Best parameters\n",
    "best_params = grid_search.best_params_\n",
    "print(\"Best parameters:\", best_params)"
   ]
  },
  {
   "cell_type": "markdown",
   "id": "202a3098",
   "metadata": {},
   "source": [
    "Modelling"
   ]
  },
  {
   "cell_type": "code",
   "execution_count": 48,
   "id": "84769b2f",
   "metadata": {},
   "outputs": [
    {
     "data": {
      "text/html": [
       "<style>#sk-container-id-1 {color: black;}#sk-container-id-1 pre{padding: 0;}#sk-container-id-1 div.sk-toggleable {background-color: white;}#sk-container-id-1 label.sk-toggleable__label {cursor: pointer;display: block;width: 100%;margin-bottom: 0;padding: 0.3em;box-sizing: border-box;text-align: center;}#sk-container-id-1 label.sk-toggleable__label-arrow:before {content: \"▸\";float: left;margin-right: 0.25em;color: #696969;}#sk-container-id-1 label.sk-toggleable__label-arrow:hover:before {color: black;}#sk-container-id-1 div.sk-estimator:hover label.sk-toggleable__label-arrow:before {color: black;}#sk-container-id-1 div.sk-toggleable__content {max-height: 0;max-width: 0;overflow: hidden;text-align: left;background-color: #f0f8ff;}#sk-container-id-1 div.sk-toggleable__content pre {margin: 0.2em;color: black;border-radius: 0.25em;background-color: #f0f8ff;}#sk-container-id-1 input.sk-toggleable__control:checked~div.sk-toggleable__content {max-height: 200px;max-width: 100%;overflow: auto;}#sk-container-id-1 input.sk-toggleable__control:checked~label.sk-toggleable__label-arrow:before {content: \"▾\";}#sk-container-id-1 div.sk-estimator input.sk-toggleable__control:checked~label.sk-toggleable__label {background-color: #d4ebff;}#sk-container-id-1 div.sk-label input.sk-toggleable__control:checked~label.sk-toggleable__label {background-color: #d4ebff;}#sk-container-id-1 input.sk-hidden--visually {border: 0;clip: rect(1px 1px 1px 1px);clip: rect(1px, 1px, 1px, 1px);height: 1px;margin: -1px;overflow: hidden;padding: 0;position: absolute;width: 1px;}#sk-container-id-1 div.sk-estimator {font-family: monospace;background-color: #f0f8ff;border: 1px dotted black;border-radius: 0.25em;box-sizing: border-box;margin-bottom: 0.5em;}#sk-container-id-1 div.sk-estimator:hover {background-color: #d4ebff;}#sk-container-id-1 div.sk-parallel-item::after {content: \"\";width: 100%;border-bottom: 1px solid gray;flex-grow: 1;}#sk-container-id-1 div.sk-label:hover label.sk-toggleable__label {background-color: #d4ebff;}#sk-container-id-1 div.sk-serial::before {content: \"\";position: absolute;border-left: 1px solid gray;box-sizing: border-box;top: 0;bottom: 0;left: 50%;z-index: 0;}#sk-container-id-1 div.sk-serial {display: flex;flex-direction: column;align-items: center;background-color: white;padding-right: 0.2em;padding-left: 0.2em;position: relative;}#sk-container-id-1 div.sk-item {position: relative;z-index: 1;}#sk-container-id-1 div.sk-parallel {display: flex;align-items: stretch;justify-content: center;background-color: white;position: relative;}#sk-container-id-1 div.sk-item::before, #sk-container-id-1 div.sk-parallel-item::before {content: \"\";position: absolute;border-left: 1px solid gray;box-sizing: border-box;top: 0;bottom: 0;left: 50%;z-index: -1;}#sk-container-id-1 div.sk-parallel-item {display: flex;flex-direction: column;z-index: 1;position: relative;background-color: white;}#sk-container-id-1 div.sk-parallel-item:first-child::after {align-self: flex-end;width: 50%;}#sk-container-id-1 div.sk-parallel-item:last-child::after {align-self: flex-start;width: 50%;}#sk-container-id-1 div.sk-parallel-item:only-child::after {width: 0;}#sk-container-id-1 div.sk-dashed-wrapped {border: 1px dashed gray;margin: 0 0.4em 0.5em 0.4em;box-sizing: border-box;padding-bottom: 0.4em;background-color: white;}#sk-container-id-1 div.sk-label label {font-family: monospace;font-weight: bold;display: inline-block;line-height: 1.2em;}#sk-container-id-1 div.sk-label-container {text-align: center;}#sk-container-id-1 div.sk-container {/* jupyter's `normalize.less` sets `[hidden] { display: none; }` but bootstrap.min.css set `[hidden] { display: none !important; }` so we also need the `!important` here to be able to override the default hidden behavior on the sphinx rendered scikit-learn.org. See: https://github.com/scikit-learn/scikit-learn/issues/21755 */display: inline-block !important;position: relative;}#sk-container-id-1 div.sk-text-repr-fallback {display: none;}</style><div id=\"sk-container-id-1\" class=\"sk-top-container\"><div class=\"sk-text-repr-fallback\"><pre>DecisionTreeClassifier(criterion=&#x27;entropy&#x27;, max_depth=10)</pre><b>In a Jupyter environment, please rerun this cell to show the HTML representation or trust the notebook. <br />On GitHub, the HTML representation is unable to render, please try loading this page with nbviewer.org.</b></div><div class=\"sk-container\" hidden><div class=\"sk-item\"><div class=\"sk-estimator sk-toggleable\"><input class=\"sk-toggleable__control sk-hidden--visually\" id=\"sk-estimator-id-1\" type=\"checkbox\" checked><label for=\"sk-estimator-id-1\" class=\"sk-toggleable__label sk-toggleable__label-arrow\">DecisionTreeClassifier</label><div class=\"sk-toggleable__content\"><pre>DecisionTreeClassifier(criterion=&#x27;entropy&#x27;, max_depth=10)</pre></div></div></div></div></div>"
      ],
      "text/plain": [
       "DecisionTreeClassifier(criterion='entropy', max_depth=10)"
      ]
     },
     "execution_count": 48,
     "metadata": {},
     "output_type": "execute_result"
    }
   ],
   "source": [
    "# Train the model using the best parameters:\n",
    "\n",
    "survive_tree = DecisionTreeClassifier(criterion=\"entropy\", max_depth = 10)\n",
    "survive_tree"
   ]
  },
  {
   "cell_type": "code",
   "execution_count": 49,
   "id": "6e1c9f68",
   "metadata": {},
   "outputs": [
    {
     "data": {
      "text/html": [
       "<style>#sk-container-id-2 {color: black;}#sk-container-id-2 pre{padding: 0;}#sk-container-id-2 div.sk-toggleable {background-color: white;}#sk-container-id-2 label.sk-toggleable__label {cursor: pointer;display: block;width: 100%;margin-bottom: 0;padding: 0.3em;box-sizing: border-box;text-align: center;}#sk-container-id-2 label.sk-toggleable__label-arrow:before {content: \"▸\";float: left;margin-right: 0.25em;color: #696969;}#sk-container-id-2 label.sk-toggleable__label-arrow:hover:before {color: black;}#sk-container-id-2 div.sk-estimator:hover label.sk-toggleable__label-arrow:before {color: black;}#sk-container-id-2 div.sk-toggleable__content {max-height: 0;max-width: 0;overflow: hidden;text-align: left;background-color: #f0f8ff;}#sk-container-id-2 div.sk-toggleable__content pre {margin: 0.2em;color: black;border-radius: 0.25em;background-color: #f0f8ff;}#sk-container-id-2 input.sk-toggleable__control:checked~div.sk-toggleable__content {max-height: 200px;max-width: 100%;overflow: auto;}#sk-container-id-2 input.sk-toggleable__control:checked~label.sk-toggleable__label-arrow:before {content: \"▾\";}#sk-container-id-2 div.sk-estimator input.sk-toggleable__control:checked~label.sk-toggleable__label {background-color: #d4ebff;}#sk-container-id-2 div.sk-label input.sk-toggleable__control:checked~label.sk-toggleable__label {background-color: #d4ebff;}#sk-container-id-2 input.sk-hidden--visually {border: 0;clip: rect(1px 1px 1px 1px);clip: rect(1px, 1px, 1px, 1px);height: 1px;margin: -1px;overflow: hidden;padding: 0;position: absolute;width: 1px;}#sk-container-id-2 div.sk-estimator {font-family: monospace;background-color: #f0f8ff;border: 1px dotted black;border-radius: 0.25em;box-sizing: border-box;margin-bottom: 0.5em;}#sk-container-id-2 div.sk-estimator:hover {background-color: #d4ebff;}#sk-container-id-2 div.sk-parallel-item::after {content: \"\";width: 100%;border-bottom: 1px solid gray;flex-grow: 1;}#sk-container-id-2 div.sk-label:hover label.sk-toggleable__label {background-color: #d4ebff;}#sk-container-id-2 div.sk-serial::before {content: \"\";position: absolute;border-left: 1px solid gray;box-sizing: border-box;top: 0;bottom: 0;left: 50%;z-index: 0;}#sk-container-id-2 div.sk-serial {display: flex;flex-direction: column;align-items: center;background-color: white;padding-right: 0.2em;padding-left: 0.2em;position: relative;}#sk-container-id-2 div.sk-item {position: relative;z-index: 1;}#sk-container-id-2 div.sk-parallel {display: flex;align-items: stretch;justify-content: center;background-color: white;position: relative;}#sk-container-id-2 div.sk-item::before, #sk-container-id-2 div.sk-parallel-item::before {content: \"\";position: absolute;border-left: 1px solid gray;box-sizing: border-box;top: 0;bottom: 0;left: 50%;z-index: -1;}#sk-container-id-2 div.sk-parallel-item {display: flex;flex-direction: column;z-index: 1;position: relative;background-color: white;}#sk-container-id-2 div.sk-parallel-item:first-child::after {align-self: flex-end;width: 50%;}#sk-container-id-2 div.sk-parallel-item:last-child::after {align-self: flex-start;width: 50%;}#sk-container-id-2 div.sk-parallel-item:only-child::after {width: 0;}#sk-container-id-2 div.sk-dashed-wrapped {border: 1px dashed gray;margin: 0 0.4em 0.5em 0.4em;box-sizing: border-box;padding-bottom: 0.4em;background-color: white;}#sk-container-id-2 div.sk-label label {font-family: monospace;font-weight: bold;display: inline-block;line-height: 1.2em;}#sk-container-id-2 div.sk-label-container {text-align: center;}#sk-container-id-2 div.sk-container {/* jupyter's `normalize.less` sets `[hidden] { display: none; }` but bootstrap.min.css set `[hidden] { display: none !important; }` so we also need the `!important` here to be able to override the default hidden behavior on the sphinx rendered scikit-learn.org. See: https://github.com/scikit-learn/scikit-learn/issues/21755 */display: inline-block !important;position: relative;}#sk-container-id-2 div.sk-text-repr-fallback {display: none;}</style><div id=\"sk-container-id-2\" class=\"sk-top-container\"><div class=\"sk-text-repr-fallback\"><pre>DecisionTreeClassifier(criterion=&#x27;entropy&#x27;, max_depth=10)</pre><b>In a Jupyter environment, please rerun this cell to show the HTML representation or trust the notebook. <br />On GitHub, the HTML representation is unable to render, please try loading this page with nbviewer.org.</b></div><div class=\"sk-container\" hidden><div class=\"sk-item\"><div class=\"sk-estimator sk-toggleable\"><input class=\"sk-toggleable__control sk-hidden--visually\" id=\"sk-estimator-id-2\" type=\"checkbox\" checked><label for=\"sk-estimator-id-2\" class=\"sk-toggleable__label sk-toggleable__label-arrow\">DecisionTreeClassifier</label><div class=\"sk-toggleable__content\"><pre>DecisionTreeClassifier(criterion=&#x27;entropy&#x27;, max_depth=10)</pre></div></div></div></div></div>"
      ],
      "text/plain": [
       "DecisionTreeClassifier(criterion='entropy', max_depth=10)"
      ]
     },
     "execution_count": 49,
     "metadata": {},
     "output_type": "execute_result"
    }
   ],
   "source": [
    "# Fitting with training feature matrix & trianing response vector\n",
    "\n",
    "survive_tree.fit(X_trainset, y_trainset)"
   ]
  },
  {
   "cell_type": "code",
   "execution_count": 50,
   "id": "5975c454",
   "metadata": {},
   "outputs": [],
   "source": [
    "# Predictions and storing in predTree\n",
    "\n",
    "predTree = survive_tree.predict(X_testset)"
   ]
  },
  {
   "cell_type": "markdown",
   "id": "987abc98",
   "metadata": {},
   "source": [
    "Evaluation"
   ]
  },
  {
   "cell_type": "code",
   "execution_count": 51,
   "id": "7c2b4a5b",
   "metadata": {},
   "outputs": [
    {
     "name": "stdout",
     "output_type": "stream",
     "text": [
      "DecisionTrees's Accuracy:  0.7340823970037453\n"
     ]
    }
   ],
   "source": [
    "print(\"DecisionTrees's Accuracy: \", metrics.accuracy_score(y_testset, predTree))"
   ]
  },
  {
   "cell_type": "markdown",
   "id": "78b86086",
   "metadata": {},
   "source": [
    "<font color = \"blue\" size=\"3\">K-nearest Neighbours</font>"
   ]
  },
  {
   "cell_type": "markdown",
   "id": "9b79fd84",
   "metadata": {},
   "source": [
    "Feature Set"
   ]
  },
  {
   "cell_type": "code",
   "execution_count": 52,
   "id": "22a1ab29",
   "metadata": {
    "scrolled": false
   },
   "outputs": [
    {
     "data": {
      "text/plain": [
       "Index(['Age', 'AgeGroup_Adult', 'AgeGroup_Child', 'AgeGroup_Senior',\n",
       "       'AgeGroup_Teen', 'AgeGroup_Toddler', 'AgeGroup_Young Adult',\n",
       "       'Embarked_Q', 'Embarked_S', 'Fare', 'Indicator_Master',\n",
       "       'Indicator_Military & Nobility', 'Indicator_Miss', 'Indicator_Mr',\n",
       "       'Indicator_Mrs', 'Indicator_Rev', 'Parch', 'PassengerId', 'Pclass',\n",
       "       'Sex_male', 'SibSp', 'Survived'],\n",
       "      dtype='object')"
      ]
     },
     "execution_count": 52,
     "metadata": {},
     "output_type": "execute_result"
    }
   ],
   "source": [
    "train_data.columns"
   ]
  },
  {
   "cell_type": "code",
   "execution_count": 53,
   "id": "554165e4",
   "metadata": {},
   "outputs": [
    {
     "data": {
      "text/html": [
       "<div>\n",
       "<style scoped>\n",
       "    .dataframe tbody tr th:only-of-type {\n",
       "        vertical-align: middle;\n",
       "    }\n",
       "\n",
       "    .dataframe tbody tr th {\n",
       "        vertical-align: top;\n",
       "    }\n",
       "\n",
       "    .dataframe thead th {\n",
       "        text-align: right;\n",
       "    }\n",
       "</style>\n",
       "<table border=\"1\" class=\"dataframe\">\n",
       "  <thead>\n",
       "    <tr style=\"text-align: right;\">\n",
       "      <th></th>\n",
       "      <th>Age</th>\n",
       "      <th>AgeGroup_Adult</th>\n",
       "      <th>AgeGroup_Child</th>\n",
       "      <th>AgeGroup_Senior</th>\n",
       "      <th>AgeGroup_Teen</th>\n",
       "      <th>AgeGroup_Toddler</th>\n",
       "      <th>AgeGroup_Young Adult</th>\n",
       "      <th>Embarked_Q</th>\n",
       "      <th>Embarked_S</th>\n",
       "      <th>Fare</th>\n",
       "      <th>Indicator_Master</th>\n",
       "      <th>Indicator_Military &amp; Nobility</th>\n",
       "      <th>Indicator_Miss</th>\n",
       "      <th>Indicator_Mr</th>\n",
       "      <th>Indicator_Mrs</th>\n",
       "      <th>Indicator_Rev</th>\n",
       "      <th>Parch</th>\n",
       "      <th>Pclass</th>\n",
       "      <th>Sex_male</th>\n",
       "      <th>SibSp</th>\n",
       "    </tr>\n",
       "  </thead>\n",
       "  <tbody>\n",
       "    <tr>\n",
       "      <th>0</th>\n",
       "      <td>22.0</td>\n",
       "      <td>False</td>\n",
       "      <td>False</td>\n",
       "      <td>False</td>\n",
       "      <td>False</td>\n",
       "      <td>False</td>\n",
       "      <td>True</td>\n",
       "      <td>False</td>\n",
       "      <td>True</td>\n",
       "      <td>7.2500</td>\n",
       "      <td>False</td>\n",
       "      <td>False</td>\n",
       "      <td>False</td>\n",
       "      <td>True</td>\n",
       "      <td>False</td>\n",
       "      <td>False</td>\n",
       "      <td>0</td>\n",
       "      <td>3</td>\n",
       "      <td>True</td>\n",
       "      <td>1</td>\n",
       "    </tr>\n",
       "    <tr>\n",
       "      <th>1</th>\n",
       "      <td>38.0</td>\n",
       "      <td>True</td>\n",
       "      <td>False</td>\n",
       "      <td>False</td>\n",
       "      <td>False</td>\n",
       "      <td>False</td>\n",
       "      <td>False</td>\n",
       "      <td>False</td>\n",
       "      <td>False</td>\n",
       "      <td>71.2833</td>\n",
       "      <td>False</td>\n",
       "      <td>False</td>\n",
       "      <td>False</td>\n",
       "      <td>False</td>\n",
       "      <td>True</td>\n",
       "      <td>False</td>\n",
       "      <td>0</td>\n",
       "      <td>1</td>\n",
       "      <td>False</td>\n",
       "      <td>1</td>\n",
       "    </tr>\n",
       "    <tr>\n",
       "      <th>2</th>\n",
       "      <td>26.0</td>\n",
       "      <td>False</td>\n",
       "      <td>False</td>\n",
       "      <td>False</td>\n",
       "      <td>False</td>\n",
       "      <td>False</td>\n",
       "      <td>True</td>\n",
       "      <td>False</td>\n",
       "      <td>True</td>\n",
       "      <td>7.9250</td>\n",
       "      <td>False</td>\n",
       "      <td>False</td>\n",
       "      <td>True</td>\n",
       "      <td>False</td>\n",
       "      <td>False</td>\n",
       "      <td>False</td>\n",
       "      <td>0</td>\n",
       "      <td>3</td>\n",
       "      <td>False</td>\n",
       "      <td>0</td>\n",
       "    </tr>\n",
       "    <tr>\n",
       "      <th>3</th>\n",
       "      <td>35.0</td>\n",
       "      <td>False</td>\n",
       "      <td>False</td>\n",
       "      <td>False</td>\n",
       "      <td>False</td>\n",
       "      <td>False</td>\n",
       "      <td>True</td>\n",
       "      <td>False</td>\n",
       "      <td>True</td>\n",
       "      <td>53.1000</td>\n",
       "      <td>False</td>\n",
       "      <td>False</td>\n",
       "      <td>False</td>\n",
       "      <td>False</td>\n",
       "      <td>True</td>\n",
       "      <td>False</td>\n",
       "      <td>0</td>\n",
       "      <td>1</td>\n",
       "      <td>False</td>\n",
       "      <td>1</td>\n",
       "    </tr>\n",
       "    <tr>\n",
       "      <th>4</th>\n",
       "      <td>35.0</td>\n",
       "      <td>False</td>\n",
       "      <td>False</td>\n",
       "      <td>False</td>\n",
       "      <td>False</td>\n",
       "      <td>False</td>\n",
       "      <td>True</td>\n",
       "      <td>False</td>\n",
       "      <td>True</td>\n",
       "      <td>8.0500</td>\n",
       "      <td>False</td>\n",
       "      <td>False</td>\n",
       "      <td>False</td>\n",
       "      <td>True</td>\n",
       "      <td>False</td>\n",
       "      <td>False</td>\n",
       "      <td>0</td>\n",
       "      <td>3</td>\n",
       "      <td>True</td>\n",
       "      <td>0</td>\n",
       "    </tr>\n",
       "  </tbody>\n",
       "</table>\n",
       "</div>"
      ],
      "text/plain": [
       "    Age  AgeGroup_Adult  AgeGroup_Child  AgeGroup_Senior  AgeGroup_Teen  \\\n",
       "0  22.0           False           False            False          False   \n",
       "1  38.0            True           False            False          False   \n",
       "2  26.0           False           False            False          False   \n",
       "3  35.0           False           False            False          False   \n",
       "4  35.0           False           False            False          False   \n",
       "\n",
       "   AgeGroup_Toddler  AgeGroup_Young Adult  Embarked_Q  Embarked_S     Fare  \\\n",
       "0             False                  True       False        True   7.2500   \n",
       "1             False                 False       False       False  71.2833   \n",
       "2             False                  True       False        True   7.9250   \n",
       "3             False                  True       False        True  53.1000   \n",
       "4             False                  True       False        True   8.0500   \n",
       "\n",
       "   Indicator_Master  Indicator_Military & Nobility  Indicator_Miss  \\\n",
       "0             False                          False           False   \n",
       "1             False                          False           False   \n",
       "2             False                          False            True   \n",
       "3             False                          False           False   \n",
       "4             False                          False           False   \n",
       "\n",
       "   Indicator_Mr  Indicator_Mrs  Indicator_Rev  Parch  Pclass  Sex_male  SibSp  \n",
       "0          True          False          False      0       3      True      1  \n",
       "1         False           True          False      0       1     False      1  \n",
       "2         False          False          False      0       3     False      0  \n",
       "3         False           True          False      0       1     False      1  \n",
       "4          True          False          False      0       3      True      0  "
      ]
     },
     "execution_count": 53,
     "metadata": {},
     "output_type": "execute_result"
    }
   ],
   "source": [
    "X=train_data[['Age', 'AgeGroup_Adult', 'AgeGroup_Child', 'AgeGroup_Senior',\n",
    "       'AgeGroup_Teen', 'AgeGroup_Toddler', 'AgeGroup_Young Adult',\n",
    "       'Embarked_Q', 'Embarked_S', 'Fare', 'Indicator_Master',\n",
    "       'Indicator_Military & Nobility', 'Indicator_Miss', 'Indicator_Mr',\n",
    "       'Indicator_Mrs', 'Indicator_Rev', 'Parch', 'Pclass',\n",
    "       'Sex_male', 'SibSp']]\n",
    "X[0:5]"
   ]
  },
  {
   "cell_type": "code",
   "execution_count": 54,
   "id": "9e1c7c58",
   "metadata": {},
   "outputs": [
    {
     "data": {
      "text/plain": [
       "array([0, 1, 1, 1, 0], dtype=int64)"
      ]
     },
     "execution_count": 54,
     "metadata": {},
     "output_type": "execute_result"
    }
   ],
   "source": [
    "y = train_data['Survived'].values\n",
    "y[0:5]"
   ]
  },
  {
   "cell_type": "markdown",
   "id": "3b75e9d0",
   "metadata": {},
   "source": [
    "Normalize Data"
   ]
  },
  {
   "cell_type": "code",
   "execution_count": 55,
   "id": "38380aea",
   "metadata": {},
   "outputs": [],
   "source": [
    "X = preprocessing.StandardScaler().fit(X).transform(X.astype(float))"
   ]
  },
  {
   "cell_type": "markdown",
   "id": "ee9d8a7c",
   "metadata": {},
   "source": [
    "Test Split again"
   ]
  },
  {
   "cell_type": "code",
   "execution_count": 56,
   "id": "d1053a71",
   "metadata": {},
   "outputs": [],
   "source": [
    "X_train, X_test, y_train, y_test = train_test_split(X, y, test_size=0.3, random_state=3)"
   ]
  },
  {
   "cell_type": "markdown",
   "id": "ff49e93e",
   "metadata": {},
   "source": [
    "Finding best parameters"
   ]
  },
  {
   "cell_type": "code",
   "execution_count": 57,
   "id": "f621d651",
   "metadata": {},
   "outputs": [
    {
     "name": "stdout",
     "output_type": "stream",
     "text": [
      "Best k: 10\n"
     ]
    }
   ],
   "source": [
    "# Define the parameter grid: try different values for k\n",
    "param_grid = {'n_neighbors': [3, 4, 5, 6, 7, 8, 9, 10, 11, 12, 13, 14, 15]}\n",
    "# Create KNN classifier\n",
    "knn = KNeighborsClassifier()\n",
    "# Create a grid search object\n",
    "grid_search = GridSearchCV(knn, param_grid, cv=5)\n",
    "# Fit the grid search to the data\n",
    "grid_search.fit(X, y)\n",
    "\n",
    "# Best parameter\n",
    "best_k = grid_search.best_params_['n_neighbors']\n",
    "print(\"Best k:\", best_k)"
   ]
  },
  {
   "cell_type": "markdown",
   "id": "206ff284",
   "metadata": {},
   "source": [
    "Training"
   ]
  },
  {
   "cell_type": "code",
   "execution_count": 58,
   "id": "3e36545b",
   "metadata": {},
   "outputs": [
    {
     "data": {
      "text/html": [
       "<style>#sk-container-id-3 {color: black;}#sk-container-id-3 pre{padding: 0;}#sk-container-id-3 div.sk-toggleable {background-color: white;}#sk-container-id-3 label.sk-toggleable__label {cursor: pointer;display: block;width: 100%;margin-bottom: 0;padding: 0.3em;box-sizing: border-box;text-align: center;}#sk-container-id-3 label.sk-toggleable__label-arrow:before {content: \"▸\";float: left;margin-right: 0.25em;color: #696969;}#sk-container-id-3 label.sk-toggleable__label-arrow:hover:before {color: black;}#sk-container-id-3 div.sk-estimator:hover label.sk-toggleable__label-arrow:before {color: black;}#sk-container-id-3 div.sk-toggleable__content {max-height: 0;max-width: 0;overflow: hidden;text-align: left;background-color: #f0f8ff;}#sk-container-id-3 div.sk-toggleable__content pre {margin: 0.2em;color: black;border-radius: 0.25em;background-color: #f0f8ff;}#sk-container-id-3 input.sk-toggleable__control:checked~div.sk-toggleable__content {max-height: 200px;max-width: 100%;overflow: auto;}#sk-container-id-3 input.sk-toggleable__control:checked~label.sk-toggleable__label-arrow:before {content: \"▾\";}#sk-container-id-3 div.sk-estimator input.sk-toggleable__control:checked~label.sk-toggleable__label {background-color: #d4ebff;}#sk-container-id-3 div.sk-label input.sk-toggleable__control:checked~label.sk-toggleable__label {background-color: #d4ebff;}#sk-container-id-3 input.sk-hidden--visually {border: 0;clip: rect(1px 1px 1px 1px);clip: rect(1px, 1px, 1px, 1px);height: 1px;margin: -1px;overflow: hidden;padding: 0;position: absolute;width: 1px;}#sk-container-id-3 div.sk-estimator {font-family: monospace;background-color: #f0f8ff;border: 1px dotted black;border-radius: 0.25em;box-sizing: border-box;margin-bottom: 0.5em;}#sk-container-id-3 div.sk-estimator:hover {background-color: #d4ebff;}#sk-container-id-3 div.sk-parallel-item::after {content: \"\";width: 100%;border-bottom: 1px solid gray;flex-grow: 1;}#sk-container-id-3 div.sk-label:hover label.sk-toggleable__label {background-color: #d4ebff;}#sk-container-id-3 div.sk-serial::before {content: \"\";position: absolute;border-left: 1px solid gray;box-sizing: border-box;top: 0;bottom: 0;left: 50%;z-index: 0;}#sk-container-id-3 div.sk-serial {display: flex;flex-direction: column;align-items: center;background-color: white;padding-right: 0.2em;padding-left: 0.2em;position: relative;}#sk-container-id-3 div.sk-item {position: relative;z-index: 1;}#sk-container-id-3 div.sk-parallel {display: flex;align-items: stretch;justify-content: center;background-color: white;position: relative;}#sk-container-id-3 div.sk-item::before, #sk-container-id-3 div.sk-parallel-item::before {content: \"\";position: absolute;border-left: 1px solid gray;box-sizing: border-box;top: 0;bottom: 0;left: 50%;z-index: -1;}#sk-container-id-3 div.sk-parallel-item {display: flex;flex-direction: column;z-index: 1;position: relative;background-color: white;}#sk-container-id-3 div.sk-parallel-item:first-child::after {align-self: flex-end;width: 50%;}#sk-container-id-3 div.sk-parallel-item:last-child::after {align-self: flex-start;width: 50%;}#sk-container-id-3 div.sk-parallel-item:only-child::after {width: 0;}#sk-container-id-3 div.sk-dashed-wrapped {border: 1px dashed gray;margin: 0 0.4em 0.5em 0.4em;box-sizing: border-box;padding-bottom: 0.4em;background-color: white;}#sk-container-id-3 div.sk-label label {font-family: monospace;font-weight: bold;display: inline-block;line-height: 1.2em;}#sk-container-id-3 div.sk-label-container {text-align: center;}#sk-container-id-3 div.sk-container {/* jupyter's `normalize.less` sets `[hidden] { display: none; }` but bootstrap.min.css set `[hidden] { display: none !important; }` so we also need the `!important` here to be able to override the default hidden behavior on the sphinx rendered scikit-learn.org. See: https://github.com/scikit-learn/scikit-learn/issues/21755 */display: inline-block !important;position: relative;}#sk-container-id-3 div.sk-text-repr-fallback {display: none;}</style><div id=\"sk-container-id-3\" class=\"sk-top-container\"><div class=\"sk-text-repr-fallback\"><pre>KNeighborsClassifier(n_neighbors=10)</pre><b>In a Jupyter environment, please rerun this cell to show the HTML representation or trust the notebook. <br />On GitHub, the HTML representation is unable to render, please try loading this page with nbviewer.org.</b></div><div class=\"sk-container\" hidden><div class=\"sk-item\"><div class=\"sk-estimator sk-toggleable\"><input class=\"sk-toggleable__control sk-hidden--visually\" id=\"sk-estimator-id-3\" type=\"checkbox\" checked><label for=\"sk-estimator-id-3\" class=\"sk-toggleable__label sk-toggleable__label-arrow\">KNeighborsClassifier</label><div class=\"sk-toggleable__content\"><pre>KNeighborsClassifier(n_neighbors=10)</pre></div></div></div></div></div>"
      ],
      "text/plain": [
       "KNeighborsClassifier(n_neighbors=10)"
      ]
     },
     "execution_count": 58,
     "metadata": {},
     "output_type": "execute_result"
    }
   ],
   "source": [
    "# Train Model & Predict\n",
    "neigh = KNeighborsClassifier(n_neighbors = best_k).fit(X_train, y_train)\n",
    "neigh"
   ]
  },
  {
   "cell_type": "markdown",
   "id": "20f1de46",
   "metadata": {},
   "source": [
    "Predicting"
   ]
  },
  {
   "cell_type": "code",
   "execution_count": 59,
   "id": "db986f46",
   "metadata": {},
   "outputs": [
    {
     "data": {
      "text/plain": [
       "array([1, 0, 0, 1, 0], dtype=int64)"
      ]
     },
     "execution_count": 59,
     "metadata": {},
     "output_type": "execute_result"
    }
   ],
   "source": [
    "yhat = neigh.predict(X_test)\n",
    "yhat[0:5]"
   ]
  },
  {
   "cell_type": "markdown",
   "id": "d15702e3",
   "metadata": {},
   "source": [
    "Evaluation"
   ]
  },
  {
   "cell_type": "code",
   "execution_count": 60,
   "id": "bb6756d3",
   "metadata": {
    "scrolled": true
   },
   "outputs": [
    {
     "name": "stdout",
     "output_type": "stream",
     "text": [
      "Train set Accuracy:  0.837620578778135\n",
      "Test set Accuracy:  0.7640449438202247\n"
     ]
    }
   ],
   "source": [
    "print(\"Train set Accuracy: \", metrics.accuracy_score(y_train, neigh.predict(X_train)))\n",
    "print(\"Test set Accuracy: \", metrics.accuracy_score(y_test, yhat))"
   ]
  },
  {
   "cell_type": "markdown",
   "id": "9a7c531a",
   "metadata": {},
   "source": [
    "<font color = \"blue\" size=\"3\">Logistic Regression</font>"
   ]
  },
  {
   "cell_type": "markdown",
   "id": "5bf9453e",
   "metadata": {},
   "source": [
    "Finding Best parameters"
   ]
  },
  {
   "cell_type": "code",
   "execution_count": 61,
   "id": "2e5cb6e0",
   "metadata": {},
   "outputs": [
    {
     "name": "stdout",
     "output_type": "stream",
     "text": [
      "Best C: 0.1\n"
     ]
    }
   ],
   "source": [
    "# Define the model\n",
    "LR = LogisticRegression(solver='liblinear')\n",
    "\n",
    "# Define a range of C values to try\n",
    "param_grid = {'C': [0.001, 0.01, 0.1, 1, 10, 100, 1000]}\n",
    "\n",
    "# Set up the grid search with cross-validation\n",
    "grid_search = GridSearchCV(LR, param_grid, cv=5)  # 5-fold cross-validation\n",
    "\n",
    "# Fit the grid search to the data\n",
    "grid_search.fit(X_train, y_train)\n",
    "\n",
    "# Find the optimal C value\n",
    "best_C = grid_search.best_params_['C']\n",
    "print(\"Best C:\", best_C)"
   ]
  },
  {
   "cell_type": "markdown",
   "id": "9ec8de56",
   "metadata": {},
   "source": [
    "Fit model with train set using liblinear since small."
   ]
  },
  {
   "cell_type": "code",
   "execution_count": 62,
   "id": "0a077fbe",
   "metadata": {
    "scrolled": true
   },
   "outputs": [
    {
     "data": {
      "text/html": [
       "<style>#sk-container-id-4 {color: black;}#sk-container-id-4 pre{padding: 0;}#sk-container-id-4 div.sk-toggleable {background-color: white;}#sk-container-id-4 label.sk-toggleable__label {cursor: pointer;display: block;width: 100%;margin-bottom: 0;padding: 0.3em;box-sizing: border-box;text-align: center;}#sk-container-id-4 label.sk-toggleable__label-arrow:before {content: \"▸\";float: left;margin-right: 0.25em;color: #696969;}#sk-container-id-4 label.sk-toggleable__label-arrow:hover:before {color: black;}#sk-container-id-4 div.sk-estimator:hover label.sk-toggleable__label-arrow:before {color: black;}#sk-container-id-4 div.sk-toggleable__content {max-height: 0;max-width: 0;overflow: hidden;text-align: left;background-color: #f0f8ff;}#sk-container-id-4 div.sk-toggleable__content pre {margin: 0.2em;color: black;border-radius: 0.25em;background-color: #f0f8ff;}#sk-container-id-4 input.sk-toggleable__control:checked~div.sk-toggleable__content {max-height: 200px;max-width: 100%;overflow: auto;}#sk-container-id-4 input.sk-toggleable__control:checked~label.sk-toggleable__label-arrow:before {content: \"▾\";}#sk-container-id-4 div.sk-estimator input.sk-toggleable__control:checked~label.sk-toggleable__label {background-color: #d4ebff;}#sk-container-id-4 div.sk-label input.sk-toggleable__control:checked~label.sk-toggleable__label {background-color: #d4ebff;}#sk-container-id-4 input.sk-hidden--visually {border: 0;clip: rect(1px 1px 1px 1px);clip: rect(1px, 1px, 1px, 1px);height: 1px;margin: -1px;overflow: hidden;padding: 0;position: absolute;width: 1px;}#sk-container-id-4 div.sk-estimator {font-family: monospace;background-color: #f0f8ff;border: 1px dotted black;border-radius: 0.25em;box-sizing: border-box;margin-bottom: 0.5em;}#sk-container-id-4 div.sk-estimator:hover {background-color: #d4ebff;}#sk-container-id-4 div.sk-parallel-item::after {content: \"\";width: 100%;border-bottom: 1px solid gray;flex-grow: 1;}#sk-container-id-4 div.sk-label:hover label.sk-toggleable__label {background-color: #d4ebff;}#sk-container-id-4 div.sk-serial::before {content: \"\";position: absolute;border-left: 1px solid gray;box-sizing: border-box;top: 0;bottom: 0;left: 50%;z-index: 0;}#sk-container-id-4 div.sk-serial {display: flex;flex-direction: column;align-items: center;background-color: white;padding-right: 0.2em;padding-left: 0.2em;position: relative;}#sk-container-id-4 div.sk-item {position: relative;z-index: 1;}#sk-container-id-4 div.sk-parallel {display: flex;align-items: stretch;justify-content: center;background-color: white;position: relative;}#sk-container-id-4 div.sk-item::before, #sk-container-id-4 div.sk-parallel-item::before {content: \"\";position: absolute;border-left: 1px solid gray;box-sizing: border-box;top: 0;bottom: 0;left: 50%;z-index: -1;}#sk-container-id-4 div.sk-parallel-item {display: flex;flex-direction: column;z-index: 1;position: relative;background-color: white;}#sk-container-id-4 div.sk-parallel-item:first-child::after {align-self: flex-end;width: 50%;}#sk-container-id-4 div.sk-parallel-item:last-child::after {align-self: flex-start;width: 50%;}#sk-container-id-4 div.sk-parallel-item:only-child::after {width: 0;}#sk-container-id-4 div.sk-dashed-wrapped {border: 1px dashed gray;margin: 0 0.4em 0.5em 0.4em;box-sizing: border-box;padding-bottom: 0.4em;background-color: white;}#sk-container-id-4 div.sk-label label {font-family: monospace;font-weight: bold;display: inline-block;line-height: 1.2em;}#sk-container-id-4 div.sk-label-container {text-align: center;}#sk-container-id-4 div.sk-container {/* jupyter's `normalize.less` sets `[hidden] { display: none; }` but bootstrap.min.css set `[hidden] { display: none !important; }` so we also need the `!important` here to be able to override the default hidden behavior on the sphinx rendered scikit-learn.org. See: https://github.com/scikit-learn/scikit-learn/issues/21755 */display: inline-block !important;position: relative;}#sk-container-id-4 div.sk-text-repr-fallback {display: none;}</style><div id=\"sk-container-id-4\" class=\"sk-top-container\"><div class=\"sk-text-repr-fallback\"><pre>LogisticRegression(C=0.1, solver=&#x27;liblinear&#x27;)</pre><b>In a Jupyter environment, please rerun this cell to show the HTML representation or trust the notebook. <br />On GitHub, the HTML representation is unable to render, please try loading this page with nbviewer.org.</b></div><div class=\"sk-container\" hidden><div class=\"sk-item\"><div class=\"sk-estimator sk-toggleable\"><input class=\"sk-toggleable__control sk-hidden--visually\" id=\"sk-estimator-id-4\" type=\"checkbox\" checked><label for=\"sk-estimator-id-4\" class=\"sk-toggleable__label sk-toggleable__label-arrow\">LogisticRegression</label><div class=\"sk-toggleable__content\"><pre>LogisticRegression(C=0.1, solver=&#x27;liblinear&#x27;)</pre></div></div></div></div></div>"
      ],
      "text/plain": [
       "LogisticRegression(C=0.1, solver='liblinear')"
      ]
     },
     "execution_count": 62,
     "metadata": {},
     "output_type": "execute_result"
    }
   ],
   "source": [
    "LR = LogisticRegression(C=best_C, solver='liblinear').fit(X_train, y_train)\n",
    "LR"
   ]
  },
  {
   "cell_type": "markdown",
   "id": "7cecd9ed",
   "metadata": {},
   "source": [
    "Predict"
   ]
  },
  {
   "cell_type": "code",
   "execution_count": 63,
   "id": "c0373da0",
   "metadata": {},
   "outputs": [
    {
     "data": {
      "text/plain": [
       "array([1, 0, 0, 1, 0, 0, 0, 0, 1, 0, 0, 0, 1, 0, 1, 0, 1, 0, 0, 0, 1, 0,\n",
       "       0, 0, 0, 1, 0, 0, 0, 0, 1, 1, 1, 0, 0, 0, 0, 0, 0, 0, 1, 0, 0, 0,\n",
       "       1, 1, 1, 0, 0, 0, 0, 0, 1, 1, 0, 1, 1, 0, 1, 0, 0, 0, 1, 0, 0, 0,\n",
       "       0, 0, 0, 0, 0, 0, 0, 1, 0, 0, 0, 1, 0, 0, 0, 1, 1, 0, 1, 0, 0, 1,\n",
       "       1, 0, 0, 0, 0, 1, 0, 0, 0, 1, 0, 1, 0, 0, 0, 0, 0, 0, 0, 0, 0, 0,\n",
       "       1, 1, 0, 0, 0, 0, 0, 1, 1, 1, 1, 0, 0, 1, 0, 0, 1, 0, 0, 0, 0, 0,\n",
       "       0, 1, 1, 0, 0, 0, 1, 1, 0, 1, 0, 0, 0, 1, 0, 0, 0, 1, 1, 0, 0, 0,\n",
       "       1, 0, 0, 0, 1, 1, 1, 0, 1, 0, 0, 0, 1, 0, 0, 1, 1, 0, 1, 0, 1, 0,\n",
       "       0, 0, 0, 0, 0, 0, 0, 1, 1, 1, 0, 0, 1, 0, 0, 0, 0, 0, 1, 0, 0, 1,\n",
       "       0, 1, 0, 1, 0, 0, 0, 0, 1, 1, 0, 1, 0, 0, 1, 1, 0, 0, 1, 1, 0, 0,\n",
       "       1, 0, 0, 0, 1, 1, 0, 1, 0, 0, 0, 0, 0, 1, 0, 1, 0, 0, 0, 1, 0, 1,\n",
       "       1, 0, 0, 1, 0, 1, 1, 1, 0, 0, 1, 0, 0, 1, 0, 0, 1, 0, 1, 0, 1, 1,\n",
       "       1, 1, 0], dtype=int64)"
      ]
     },
     "execution_count": 63,
     "metadata": {},
     "output_type": "execute_result"
    }
   ],
   "source": [
    "yhat2 = LR.predict(X_test)\n",
    "yhat2"
   ]
  },
  {
   "cell_type": "code",
   "execution_count": 64,
   "id": "94c9cc27",
   "metadata": {},
   "outputs": [
    {
     "data": {
      "text/plain": [
       "array([[0.11441358, 0.88558642],\n",
       "       [0.75513974, 0.24486026],\n",
       "       [0.91901521, 0.08098479],\n",
       "       [0.28599344, 0.71400656],\n",
       "       [0.66223399, 0.33776601],\n",
       "       [0.91925707, 0.08074293],\n",
       "       [0.87472249, 0.12527751],\n",
       "       [0.91474477, 0.08525523],\n",
       "       [0.06341175, 0.93658825],\n",
       "       [0.85562135, 0.14437865],\n",
       "       [0.99711504, 0.00288496],\n",
       "       [0.90811103, 0.09188897],\n",
       "       [0.04065217, 0.95934783],\n",
       "       [0.80875447, 0.19124553],\n",
       "       [0.13082365, 0.86917635],\n",
       "       [0.91568332, 0.08431668],\n",
       "       [0.43319984, 0.56680016],\n",
       "       [0.79451078, 0.20548922],\n",
       "       [0.95605614, 0.04394386],\n",
       "       [0.72159489, 0.27840511],\n",
       "       [0.12919321, 0.87080679],\n",
       "       [0.64496855, 0.35503145],\n",
       "       [0.76456257, 0.23543743],\n",
       "       [0.90315511, 0.09684489],\n",
       "       [0.89927815, 0.10072185],\n",
       "       [0.2859826 , 0.7140174 ],\n",
       "       [0.61573512, 0.38426488],\n",
       "       [0.70119681, 0.29880319],\n",
       "       [0.76365414, 0.23634586],\n",
       "       [0.57989228, 0.42010772],\n",
       "       [0.22467666, 0.77532334],\n",
       "       [0.22508767, 0.77491233],\n",
       "       [0.28595011, 0.71404989],\n",
       "       [0.73392853, 0.26607147],\n",
       "       [0.94525676, 0.05474324],\n",
       "       [0.96920234, 0.03079766],\n",
       "       [0.75327417, 0.24672583],\n",
       "       [0.64635485, 0.35364515],\n",
       "       [0.93360301, 0.06639699],\n",
       "       [0.91794625, 0.08205375],\n",
       "       [0.19539376, 0.80460624],\n",
       "       [0.91925707, 0.08074293],\n",
       "       [0.90710841, 0.09289159],\n",
       "       [0.8477502 , 0.1522498 ],\n",
       "       [0.41624231, 0.58375769],\n",
       "       [0.28587065, 0.71412935],\n",
       "       [0.27850719, 0.72149281],\n",
       "       [0.96334128, 0.03665872],\n",
       "       [0.87670874, 0.12329126],\n",
       "       [0.90070581, 0.09929419],\n",
       "       [0.91491286, 0.08508714],\n",
       "       [0.58016191, 0.41983809],\n",
       "       [0.05836853, 0.94163147],\n",
       "       [0.30102541, 0.69897459],\n",
       "       [0.91488947, 0.08511053],\n",
       "       [0.28587065, 0.71412935],\n",
       "       [0.31504518, 0.68495482],\n",
       "       [0.88640891, 0.11359109],\n",
       "       [0.38826323, 0.61173677],\n",
       "       [0.89425347, 0.10574653],\n",
       "       [0.89948939, 0.10051061],\n",
       "       [0.90402703, 0.09597297],\n",
       "       [0.33585086, 0.66414914],\n",
       "       [0.89739837, 0.10260163],\n",
       "       [0.9681634 , 0.0318366 ],\n",
       "       [0.80947183, 0.19052817],\n",
       "       [0.89921098, 0.10078902],\n",
       "       [0.89740414, 0.10259586],\n",
       "       [0.88556538, 0.11443462],\n",
       "       [0.90804766, 0.09195234],\n",
       "       [0.89613294, 0.10386706],\n",
       "       [0.91284973, 0.08715027],\n",
       "       [0.65070188, 0.34929812],\n",
       "       [0.32609093, 0.67390907],\n",
       "       [0.63980234, 0.36019766],\n",
       "       [0.76834714, 0.23165286],\n",
       "       [0.89448431, 0.10551569],\n",
       "       [0.13377882, 0.86622118],\n",
       "       [0.91302647, 0.08697353],\n",
       "       [0.70830441, 0.29169559],\n",
       "       [0.93762218, 0.06237782],\n",
       "       [0.45194336, 0.54805664],\n",
       "       [0.38208414, 0.61791586],\n",
       "       [0.78258213, 0.21741787],\n",
       "       [0.15536274, 0.84463726],\n",
       "       [0.5787719 , 0.4212281 ],\n",
       "       [0.91920848, 0.08079152],\n",
       "       [0.3406629 , 0.6593371 ],\n",
       "       [0.38029695, 0.61970305],\n",
       "       [0.90891643, 0.09108357],\n",
       "       [0.81507304, 0.18492696],\n",
       "       [0.80028733, 0.19971267],\n",
       "       [0.90521104, 0.09478896],\n",
       "       [0.26037477, 0.73962523],\n",
       "       [0.61171052, 0.38828948],\n",
       "       [0.78281512, 0.21718488],\n",
       "       [0.90840131, 0.09159869],\n",
       "       [0.25311998, 0.74688002],\n",
       "       [0.89604224, 0.10395776],\n",
       "       [0.42938435, 0.57061565],\n",
       "       [0.91030778, 0.08969222],\n",
       "       [0.89448431, 0.10551569],\n",
       "       [0.86882902, 0.13117098],\n",
       "       [0.95784456, 0.04215544],\n",
       "       [0.90100906, 0.09899094],\n",
       "       [0.90551861, 0.09448139],\n",
       "       [0.98517009, 0.01482991],\n",
       "       [0.91872072, 0.08127928],\n",
       "       [0.58976475, 0.41023525],\n",
       "       [0.91489912, 0.08510088],\n",
       "       [0.35475348, 0.64524652],\n",
       "       [0.20586557, 0.79413443],\n",
       "       [0.87078027, 0.12921973],\n",
       "       [0.91901339, 0.08098661],\n",
       "       [0.98144395, 0.01855605],\n",
       "       [0.54677916, 0.45322084],\n",
       "       [0.7806794 , 0.2193206 ],\n",
       "       [0.45830268, 0.54169732],\n",
       "       [0.26471512, 0.73528488],\n",
       "       [0.34684063, 0.65315937],\n",
       "       [0.16796074, 0.83203926],\n",
       "       [0.67319842, 0.32680158],\n",
       "       [0.96044688, 0.03955312],\n",
       "       [0.42548503, 0.57451497],\n",
       "       [0.90442596, 0.09557404],\n",
       "       [0.82265365, 0.17734635],\n",
       "       [0.03689537, 0.96310463],\n",
       "       [0.88556719, 0.11443281],\n",
       "       [0.91920848, 0.08079152],\n",
       "       [0.89337957, 0.10662043],\n",
       "       [0.91488947, 0.08511053],\n",
       "       [0.58216633, 0.41783367],\n",
       "       [0.94089054, 0.05910946],\n",
       "       [0.07734755, 0.92265245],\n",
       "       [0.31030444, 0.68969556],\n",
       "       [0.90659778, 0.09340222],\n",
       "       [0.89349488, 0.10650512],\n",
       "       [0.89771381, 0.10228619],\n",
       "       [0.41593215, 0.58406785],\n",
       "       [0.14808383, 0.85191617],\n",
       "       [0.90176822, 0.09823178],\n",
       "       [0.30807918, 0.69192082],\n",
       "       [0.86376583, 0.13623417],\n",
       "       [0.77074953, 0.22925047],\n",
       "       [0.94867603, 0.05132397],\n",
       "       [0.39169154, 0.60830846],\n",
       "       [0.68905539, 0.31094461],\n",
       "       [0.56666386, 0.43333614],\n",
       "       [0.79451078, 0.20548922],\n",
       "       [0.27931876, 0.72068124],\n",
       "       [0.26930859, 0.73069141],\n",
       "       [0.91596006, 0.08403994],\n",
       "       [0.90028594, 0.09971406],\n",
       "       [0.91872072, 0.08127928],\n",
       "       [0.21041149, 0.78958851],\n",
       "       [0.75002051, 0.24997949],\n",
       "       [0.90891643, 0.09108357],\n",
       "       [0.85091049, 0.14908951],\n",
       "       [0.19373114, 0.80626886],\n",
       "       [0.30833456, 0.69166544],\n",
       "       [0.2859826 , 0.7140174 ],\n",
       "       [0.85687915, 0.14312085],\n",
       "       [0.04991381, 0.95008619],\n",
       "       [0.89780173, 0.10219827],\n",
       "       [0.90547144, 0.09452856],\n",
       "       [0.90710841, 0.09289159],\n",
       "       [0.37612165, 0.62387835],\n",
       "       [0.90070581, 0.09929419],\n",
       "       [0.88354841, 0.11645159],\n",
       "       [0.44551045, 0.55448955],\n",
       "       [0.28587065, 0.71412935],\n",
       "       [0.72376411, 0.27623589],\n",
       "       [0.15458321, 0.84541679],\n",
       "       [0.74193091, 0.25806909],\n",
       "       [0.44818227, 0.55181773],\n",
       "       [0.76676691, 0.23323309],\n",
       "       [0.98080548, 0.01919452],\n",
       "       [0.90589442, 0.09410558],\n",
       "       [0.85911891, 0.14088109],\n",
       "       [0.67311403, 0.32688597],\n",
       "       [0.89448431, 0.10551569],\n",
       "       [0.94523521, 0.05476479],\n",
       "       [0.89569465, 0.10430535],\n",
       "       [0.10285247, 0.89714753],\n",
       "       [0.21313691, 0.78686309],\n",
       "       [0.36076704, 0.63923296],\n",
       "       [0.57576405, 0.42423595],\n",
       "       [0.91925707, 0.08074293],\n",
       "       [0.38434275, 0.61565725],\n",
       "       [0.94351875, 0.05648125],\n",
       "       [0.90256258, 0.09743742],\n",
       "       [0.80175909, 0.19824091],\n",
       "       [0.91484815, 0.08515185],\n",
       "       [0.83257634, 0.16742366],\n",
       "       [0.39555365, 0.60444635],\n",
       "       [0.93762218, 0.06237782],\n",
       "       [0.98580647, 0.01419353],\n",
       "       [0.33066539, 0.66933461],\n",
       "       [0.749343  , 0.250657  ],\n",
       "       [0.38789842, 0.61210158],\n",
       "       [0.71255111, 0.28744889],\n",
       "       [0.03841769, 0.96158231],\n",
       "       [0.88360586, 0.11639414],\n",
       "       [0.67222328, 0.32777672],\n",
       "       [0.78623437, 0.21376563],\n",
       "       [0.87111531, 0.12888469],\n",
       "       [0.45017075, 0.54982925],\n",
       "       [0.44724238, 0.55275762],\n",
       "       [0.69779284, 0.30220716],\n",
       "       [0.1697325 , 0.8302675 ],\n",
       "       [0.93422787, 0.06577213],\n",
       "       [0.80864357, 0.19135643],\n",
       "       [0.07057326, 0.92942674],\n",
       "       [0.0675331 , 0.9324669 ],\n",
       "       [0.76886933, 0.23113067],\n",
       "       [0.72540118, 0.27459882],\n",
       "       [0.41794398, 0.58205602],\n",
       "       [0.07361919, 0.92638081],\n",
       "       [0.89448599, 0.10551401],\n",
       "       [0.99711504, 0.00288496],\n",
       "       [0.05211897, 0.94788103],\n",
       "       [0.86341169, 0.13658831],\n",
       "       [0.90544596, 0.09455404],\n",
       "       [0.90406079, 0.09593921],\n",
       "       [0.07134396, 0.92865604],\n",
       "       [0.06205812, 0.93794188],\n",
       "       [0.54364836, 0.45635164],\n",
       "       [0.1935916 , 0.8064084 ],\n",
       "       [0.93286653, 0.06713347],\n",
       "       [0.89618066, 0.10381934],\n",
       "       [0.95486598, 0.04513402],\n",
       "       [0.76089034, 0.23910966],\n",
       "       [0.89448599, 0.10551401],\n",
       "       [0.17013514, 0.82986486],\n",
       "       [0.7051646 , 0.2948354 ],\n",
       "       [0.15315494, 0.84684506],\n",
       "       [0.90226682, 0.09773318],\n",
       "       [0.90882985, 0.09117015],\n",
       "       [0.9009065 , 0.0990935 ],\n",
       "       [0.05705234, 0.94294766],\n",
       "       [0.70471978, 0.29528022],\n",
       "       [0.49738111, 0.50261889],\n",
       "       [0.20200472, 0.79799528],\n",
       "       [0.73542839, 0.26457161],\n",
       "       [0.85234772, 0.14765228],\n",
       "       [0.46507256, 0.53492744],\n",
       "       [0.90021127, 0.09978873],\n",
       "       [0.37042069, 0.62957931],\n",
       "       [0.46507256, 0.53492744],\n",
       "       [0.45388612, 0.54611388],\n",
       "       [0.61891268, 0.38108732],\n",
       "       [0.73266377, 0.26733623],\n",
       "       [0.23343175, 0.76656825],\n",
       "       [0.86377622, 0.13622378],\n",
       "       [0.87319129, 0.12680871],\n",
       "       [0.07727394, 0.92272606],\n",
       "       [0.90374899, 0.09625101],\n",
       "       [0.9870516 , 0.0129484 ],\n",
       "       [0.11217957, 0.88782043],\n",
       "       [0.91925707, 0.08074293],\n",
       "       [0.24003563, 0.75996437],\n",
       "       [0.9366324 , 0.0633676 ],\n",
       "       [0.44654843, 0.55345157],\n",
       "       [0.36833703, 0.63166297],\n",
       "       [0.37838378, 0.62161622],\n",
       "       [0.28608731, 0.71391269],\n",
       "       [0.78535721, 0.21464279]])"
      ]
     },
     "execution_count": 64,
     "metadata": {},
     "output_type": "execute_result"
    }
   ],
   "source": [
    "yhat2_prob = LR.predict_proba(X_test)\n",
    "yhat2_prob"
   ]
  },
  {
   "cell_type": "markdown",
   "id": "76775546",
   "metadata": {},
   "source": [
    "Evaluation (jaccard + confusion matrix)"
   ]
  },
  {
   "cell_type": "code",
   "execution_count": 65,
   "id": "19a60e2b",
   "metadata": {},
   "outputs": [
    {
     "name": "stdout",
     "output_type": "stream",
     "text": [
      "Predicting non-survival:  0.711340206185567\n",
      "Predicting survival:  0.5658914728682171\n"
     ]
    }
   ],
   "source": [
    "print(\"Predicting non-survival: \", jaccard_score(y_test, yhat2,pos_label=0))\n",
    "print(\"Predicting survival: \", jaccard_score(y_test, yhat2,pos_label=1))"
   ]
  },
  {
   "cell_type": "code",
   "execution_count": 66,
   "id": "024b149d",
   "metadata": {},
   "outputs": [
    {
     "name": "stdout",
     "output_type": "stream",
     "text": [
      "Confusion matrix, without normalization\n",
      "[[138  20]\n",
      " [ 36  73]]\n"
     ]
    },
    {
     "data": {
      "image/png": "[encoded data removed]",
      "text/plain": [
       "<Figure size 640x480 with 2 Axes>"
      ]
     },
     "metadata": {},
     "output_type": "display_data"
    }
   ],
   "source": [
    "def plot_confusion_matrix(cm, classes,\n",
    "                          normalize=False,\n",
    "                          title='Confusion matrix',\n",
    "                          cmap=plt.cm.Blues):\n",
    "    \"\"\"\n",
    "    This function prints and plots the confusion matrix.\n",
    "    Normalization can be applied by setting `normalize=True`.\n",
    "    \"\"\"\n",
    "    if normalize:\n",
    "        cm = cm.astype('float') / cm.sum(axis=1)[:, np.newaxis]\n",
    "        print(\"Normalized confusion matrix\")\n",
    "    else:\n",
    "        print('Confusion matrix, without normalization')\n",
    "\n",
    "    print(cm)\n",
    "\n",
    "    plt.imshow(cm, interpolation='nearest', cmap=cmap)\n",
    "    plt.title(title)\n",
    "    plt.colorbar()\n",
    "    tick_marks = np.arange(len(classes))\n",
    "    plt.xticks(tick_marks, classes, rotation=45)\n",
    "    plt.yticks(tick_marks, classes)\n",
    "\n",
    "    fmt = '.2f' if normalize else 'd'\n",
    "    thresh = cm.max() / 2.\n",
    "    for i, j in itertools.product(range(cm.shape[0]), range(cm.shape[1])):\n",
    "        plt.text(j, i, format(cm[i, j], fmt),\n",
    "                 horizontalalignment=\"center\",\n",
    "                 color=\"white\" if cm[i, j] > thresh else \"black\")\n",
    "\n",
    "    plt.tight_layout()\n",
    "    plt.ylabel('True label')\n",
    "    plt.xlabel('Predicted label')\n",
    "#print(confusion_matrix(y_test, yhat, labels=[1,0]))\n",
    "\n",
    "\n",
    "# Compute confusion matrix\n",
    "cnf_matrix = confusion_matrix(y_test, yhat2, labels=[0,1])\n",
    "np.set_printoptions(precision=2)\n",
    "\n",
    "\n",
    "# Plot non-normalized confusion matrix\n",
    "plt.figure()\n",
    "plot_confusion_matrix(cnf_matrix, classes=['survive=0','survive=1'],normalize= False,  title='Confusion matrix')"
   ]
  },
  {
   "cell_type": "code",
   "execution_count": 67,
   "id": "b9d5ab25",
   "metadata": {},
   "outputs": [
    {
     "name": "stdout",
     "output_type": "stream",
     "text": [
      "              precision    recall  f1-score   support\n",
      "\n",
      "           0       0.79      0.87      0.83       158\n",
      "           1       0.78      0.67      0.72       109\n",
      "\n",
      "    accuracy                           0.79       267\n",
      "   macro avg       0.79      0.77      0.78       267\n",
      "weighted avg       0.79      0.79      0.79       267\n",
      "\n"
     ]
    }
   ],
   "source": [
    "print (classification_report(y_test, yhat2))"
   ]
  },
  {
   "cell_type": "code",
   "execution_count": 68,
   "id": "34bdd842",
   "metadata": {},
   "outputs": [
    {
     "data": {
      "text/plain": [
       "0.4837907036736544"
      ]
     },
     "execution_count": 68,
     "metadata": {},
     "output_type": "execute_result"
    }
   ],
   "source": [
    "log_loss(y_test, yhat2_prob)"
   ]
  },
  {
   "cell_type": "markdown",
   "id": "5f46c9f2",
   "metadata": {},
   "source": [
    "<font color = \"blue\" size=\"3\">Support Vector Machines (SVM)</font>"
   ]
  },
  {
   "cell_type": "markdown",
   "id": "373bd18f",
   "metadata": {},
   "source": [
    "Model Training"
   ]
  },
  {
   "cell_type": "code",
   "execution_count": 69,
   "id": "645497cd",
   "metadata": {},
   "outputs": [
    {
     "data": {
      "text/html": [
       "<style>#sk-container-id-5 {color: black;}#sk-container-id-5 pre{padding: 0;}#sk-container-id-5 div.sk-toggleable {background-color: white;}#sk-container-id-5 label.sk-toggleable__label {cursor: pointer;display: block;width: 100%;margin-bottom: 0;padding: 0.3em;box-sizing: border-box;text-align: center;}#sk-container-id-5 label.sk-toggleable__label-arrow:before {content: \"▸\";float: left;margin-right: 0.25em;color: #696969;}#sk-container-id-5 label.sk-toggleable__label-arrow:hover:before {color: black;}#sk-container-id-5 div.sk-estimator:hover label.sk-toggleable__label-arrow:before {color: black;}#sk-container-id-5 div.sk-toggleable__content {max-height: 0;max-width: 0;overflow: hidden;text-align: left;background-color: #f0f8ff;}#sk-container-id-5 div.sk-toggleable__content pre {margin: 0.2em;color: black;border-radius: 0.25em;background-color: #f0f8ff;}#sk-container-id-5 input.sk-toggleable__control:checked~div.sk-toggleable__content {max-height: 200px;max-width: 100%;overflow: auto;}#sk-container-id-5 input.sk-toggleable__control:checked~label.sk-toggleable__label-arrow:before {content: \"▾\";}#sk-container-id-5 div.sk-estimator input.sk-toggleable__control:checked~label.sk-toggleable__label {background-color: #d4ebff;}#sk-container-id-5 div.sk-label input.sk-toggleable__control:checked~label.sk-toggleable__label {background-color: #d4ebff;}#sk-container-id-5 input.sk-hidden--visually {border: 0;clip: rect(1px 1px 1px 1px);clip: rect(1px, 1px, 1px, 1px);height: 1px;margin: -1px;overflow: hidden;padding: 0;position: absolute;width: 1px;}#sk-container-id-5 div.sk-estimator {font-family: monospace;background-color: #f0f8ff;border: 1px dotted black;border-radius: 0.25em;box-sizing: border-box;margin-bottom: 0.5em;}#sk-container-id-5 div.sk-estimator:hover {background-color: #d4ebff;}#sk-container-id-5 div.sk-parallel-item::after {content: \"\";width: 100%;border-bottom: 1px solid gray;flex-grow: 1;}#sk-container-id-5 div.sk-label:hover label.sk-toggleable__label {background-color: #d4ebff;}#sk-container-id-5 div.sk-serial::before {content: \"\";position: absolute;border-left: 1px solid gray;box-sizing: border-box;top: 0;bottom: 0;left: 50%;z-index: 0;}#sk-container-id-5 div.sk-serial {display: flex;flex-direction: column;align-items: center;background-color: white;padding-right: 0.2em;padding-left: 0.2em;position: relative;}#sk-container-id-5 div.sk-item {position: relative;z-index: 1;}#sk-container-id-5 div.sk-parallel {display: flex;align-items: stretch;justify-content: center;background-color: white;position: relative;}#sk-container-id-5 div.sk-item::before, #sk-container-id-5 div.sk-parallel-item::before {content: \"\";position: absolute;border-left: 1px solid gray;box-sizing: border-box;top: 0;bottom: 0;left: 50%;z-index: -1;}#sk-container-id-5 div.sk-parallel-item {display: flex;flex-direction: column;z-index: 1;position: relative;background-color: white;}#sk-container-id-5 div.sk-parallel-item:first-child::after {align-self: flex-end;width: 50%;}#sk-container-id-5 div.sk-parallel-item:last-child::after {align-self: flex-start;width: 50%;}#sk-container-id-5 div.sk-parallel-item:only-child::after {width: 0;}#sk-container-id-5 div.sk-dashed-wrapped {border: 1px dashed gray;margin: 0 0.4em 0.5em 0.4em;box-sizing: border-box;padding-bottom: 0.4em;background-color: white;}#sk-container-id-5 div.sk-label label {font-family: monospace;font-weight: bold;display: inline-block;line-height: 1.2em;}#sk-container-id-5 div.sk-label-container {text-align: center;}#sk-container-id-5 div.sk-container {/* jupyter's `normalize.less` sets `[hidden] { display: none; }` but bootstrap.min.css set `[hidden] { display: none !important; }` so we also need the `!important` here to be able to override the default hidden behavior on the sphinx rendered scikit-learn.org. See: https://github.com/scikit-learn/scikit-learn/issues/21755 */display: inline-block !important;position: relative;}#sk-container-id-5 div.sk-text-repr-fallback {display: none;}</style><div id=\"sk-container-id-5\" class=\"sk-top-container\"><div class=\"sk-text-repr-fallback\"><pre>SVC(kernel=&#x27;linear&#x27;)</pre><b>In a Jupyter environment, please rerun this cell to show the HTML representation or trust the notebook. <br />On GitHub, the HTML representation is unable to render, please try loading this page with nbviewer.org.</b></div><div class=\"sk-container\" hidden><div class=\"sk-item\"><div class=\"sk-estimator sk-toggleable\"><input class=\"sk-toggleable__control sk-hidden--visually\" id=\"sk-estimator-id-5\" type=\"checkbox\" checked><label for=\"sk-estimator-id-5\" class=\"sk-toggleable__label sk-toggleable__label-arrow\">SVC</label><div class=\"sk-toggleable__content\"><pre>SVC(kernel=&#x27;linear&#x27;)</pre></div></div></div></div></div>"
      ],
      "text/plain": [
       "SVC(kernel='linear')"
      ]
     },
     "execution_count": 69,
     "metadata": {},
     "output_type": "execute_result"
    }
   ],
   "source": [
    "clf = svm.SVC(kernel='linear') \n",
    "clf.fit(X_train, y_train) "
   ]
  },
  {
   "cell_type": "code",
   "execution_count": 70,
   "id": "681dace6",
   "metadata": {},
   "outputs": [
    {
     "data": {
      "text/plain": [
       "array([1, 0, 0, 1, 0], dtype=int64)"
      ]
     },
     "execution_count": 70,
     "metadata": {},
     "output_type": "execute_result"
    }
   ],
   "source": [
    "yhat3 = clf.predict(X_test)\n",
    "yhat3 [0:5]"
   ]
  },
  {
   "cell_type": "code",
   "execution_count": 71,
   "id": "dfc60354",
   "metadata": {},
   "outputs": [
    {
     "name": "stdout",
     "output_type": "stream",
     "text": [
      "              precision    recall  f1-score   support\n",
      "\n",
      "           0       0.80      0.89      0.84       158\n",
      "           1       0.81      0.69      0.74       109\n",
      "\n",
      "    accuracy                           0.81       267\n",
      "   macro avg       0.81      0.79      0.79       267\n",
      "weighted avg       0.81      0.81      0.80       267\n",
      "\n",
      "Confusion matrix, without normalization\n",
      "[[140  18]\n",
      " [ 34  75]]\n"
     ]
    },
    {
     "data": {
      "image/png": "[encoded data removed]",
      "text/plain": [
       "<Figure size 640x480 with 2 Axes>"
      ]
     },
     "metadata": {},
     "output_type": "display_data"
    }
   ],
   "source": [
    "# Using earlier defined Confusion matrix\n",
    "cnf_matrix = confusion_matrix(y_test, yhat3, labels=[0,1])\n",
    "np.set_printoptions(precision=2)\n",
    "\n",
    "print (classification_report(y_test, yhat3))\n",
    "\n",
    "# Plot non-normalized confusion matrix\n",
    "plt.figure()\n",
    "plot_confusion_matrix(cnf_matrix, classes=['Survive = 0','Survive = 1'],normalize= False,  title='Confusion matrix')"
   ]
  },
  {
   "cell_type": "code",
   "execution_count": 72,
   "id": "941d4c44",
   "metadata": {},
   "outputs": [
    {
     "data": {
      "text/plain": [
       "0.8022232438486844"
      ]
     },
     "execution_count": 72,
     "metadata": {},
     "output_type": "execute_result"
    }
   ],
   "source": [
    "f1_score(y_test, yhat3, average='weighted') "
   ]
  },
  {
   "cell_type": "code",
   "execution_count": 73,
   "id": "5d951cf8",
   "metadata": {},
   "outputs": [
    {
     "name": "stdout",
     "output_type": "stream",
     "text": [
      "Predicting non-survival:  0.7291666666666666\n",
      "Predicting survival:  0.5905511811023622\n"
     ]
    }
   ],
   "source": [
    "print(\"Predicting non-survival: \", jaccard_score(y_test, yhat3,pos_label=0))\n",
    "print(\"Predicting survival: \", jaccard_score(y_test, yhat3,pos_label=1))"
   ]
  },
  {
   "cell_type": "markdown",
   "id": "74b2f73c",
   "metadata": {},
   "source": [
    "<font color = \"blue\" size=\"3\"> Gradient Boosting </font>"
   ]
  },
  {
   "cell_type": "markdown",
   "id": "9088cb62",
   "metadata": {},
   "source": [
    "Test Split again"
   ]
  },
  {
   "cell_type": "code",
   "execution_count": 74,
   "id": "bbd19892",
   "metadata": {},
   "outputs": [],
   "source": [
    "X_trainset, X_testset, y_trainset, y_testset = train_test_split(dvs, iv, test_size = 0.3, random_state = 3)"
   ]
  },
  {
   "cell_type": "markdown",
   "id": "5a433a2e",
   "metadata": {},
   "source": [
    "Imputing Nan values"
   ]
  },
  {
   "cell_type": "code",
   "execution_count": 75,
   "id": "f3e98a76",
   "metadata": {},
   "outputs": [],
   "source": [
    "# imputer = SimpleImputer(strategy='median')\n",
    "# x_trainset_imputed = imputer.fit_transform(X_trainset)\n",
    "# x_testset_imputed = imputer.transform(X_testset)"
   ]
  },
  {
   "cell_type": "markdown",
   "id": "bf86e7a1",
   "metadata": {},
   "source": [
    "Model Training"
   ]
  },
  {
   "cell_type": "code",
   "execution_count": 76,
   "id": "b152a2ac",
   "metadata": {},
   "outputs": [
    {
     "data": {
      "text/html": [
       "<style>#sk-container-id-6 {color: black;}#sk-container-id-6 pre{padding: 0;}#sk-container-id-6 div.sk-toggleable {background-color: white;}#sk-container-id-6 label.sk-toggleable__label {cursor: pointer;display: block;width: 100%;margin-bottom: 0;padding: 0.3em;box-sizing: border-box;text-align: center;}#sk-container-id-6 label.sk-toggleable__label-arrow:before {content: \"▸\";float: left;margin-right: 0.25em;color: #696969;}#sk-container-id-6 label.sk-toggleable__label-arrow:hover:before {color: black;}#sk-container-id-6 div.sk-estimator:hover label.sk-toggleable__label-arrow:before {color: black;}#sk-container-id-6 div.sk-toggleable__content {max-height: 0;max-width: 0;overflow: hidden;text-align: left;background-color: #f0f8ff;}#sk-container-id-6 div.sk-toggleable__content pre {margin: 0.2em;color: black;border-radius: 0.25em;background-color: #f0f8ff;}#sk-container-id-6 input.sk-toggleable__control:checked~div.sk-toggleable__content {max-height: 200px;max-width: 100%;overflow: auto;}#sk-container-id-6 input.sk-toggleable__control:checked~label.sk-toggleable__label-arrow:before {content: \"▾\";}#sk-container-id-6 div.sk-estimator input.sk-toggleable__control:checked~label.sk-toggleable__label {background-color: #d4ebff;}#sk-container-id-6 div.sk-label input.sk-toggleable__control:checked~label.sk-toggleable__label {background-color: #d4ebff;}#sk-container-id-6 input.sk-hidden--visually {border: 0;clip: rect(1px 1px 1px 1px);clip: rect(1px, 1px, 1px, 1px);height: 1px;margin: -1px;overflow: hidden;padding: 0;position: absolute;width: 1px;}#sk-container-id-6 div.sk-estimator {font-family: monospace;background-color: #f0f8ff;border: 1px dotted black;border-radius: 0.25em;box-sizing: border-box;margin-bottom: 0.5em;}#sk-container-id-6 div.sk-estimator:hover {background-color: #d4ebff;}#sk-container-id-6 div.sk-parallel-item::after {content: \"\";width: 100%;border-bottom: 1px solid gray;flex-grow: 1;}#sk-container-id-6 div.sk-label:hover label.sk-toggleable__label {background-color: #d4ebff;}#sk-container-id-6 div.sk-serial::before {content: \"\";position: absolute;border-left: 1px solid gray;box-sizing: border-box;top: 0;bottom: 0;left: 50%;z-index: 0;}#sk-container-id-6 div.sk-serial {display: flex;flex-direction: column;align-items: center;background-color: white;padding-right: 0.2em;padding-left: 0.2em;position: relative;}#sk-container-id-6 div.sk-item {position: relative;z-index: 1;}#sk-container-id-6 div.sk-parallel {display: flex;align-items: stretch;justify-content: center;background-color: white;position: relative;}#sk-container-id-6 div.sk-item::before, #sk-container-id-6 div.sk-parallel-item::before {content: \"\";position: absolute;border-left: 1px solid gray;box-sizing: border-box;top: 0;bottom: 0;left: 50%;z-index: -1;}#sk-container-id-6 div.sk-parallel-item {display: flex;flex-direction: column;z-index: 1;position: relative;background-color: white;}#sk-container-id-6 div.sk-parallel-item:first-child::after {align-self: flex-end;width: 50%;}#sk-container-id-6 div.sk-parallel-item:last-child::after {align-self: flex-start;width: 50%;}#sk-container-id-6 div.sk-parallel-item:only-child::after {width: 0;}#sk-container-id-6 div.sk-dashed-wrapped {border: 1px dashed gray;margin: 0 0.4em 0.5em 0.4em;box-sizing: border-box;padding-bottom: 0.4em;background-color: white;}#sk-container-id-6 div.sk-label label {font-family: monospace;font-weight: bold;display: inline-block;line-height: 1.2em;}#sk-container-id-6 div.sk-label-container {text-align: center;}#sk-container-id-6 div.sk-container {/* jupyter's `normalize.less` sets `[hidden] { display: none; }` but bootstrap.min.css set `[hidden] { display: none !important; }` so we also need the `!important` here to be able to override the default hidden behavior on the sphinx rendered scikit-learn.org. See: https://github.com/scikit-learn/scikit-learn/issues/21755 */display: inline-block !important;position: relative;}#sk-container-id-6 div.sk-text-repr-fallback {display: none;}</style><div id=\"sk-container-id-6\" class=\"sk-top-container\"><div class=\"sk-text-repr-fallback\"><pre>GradientBoostingClassifier()</pre><b>In a Jupyter environment, please rerun this cell to show the HTML representation or trust the notebook. <br />On GitHub, the HTML representation is unable to render, please try loading this page with nbviewer.org.</b></div><div class=\"sk-container\" hidden><div class=\"sk-item\"><div class=\"sk-estimator sk-toggleable\"><input class=\"sk-toggleable__control sk-hidden--visually\" id=\"sk-estimator-id-6\" type=\"checkbox\" checked><label for=\"sk-estimator-id-6\" class=\"sk-toggleable__label sk-toggleable__label-arrow\">GradientBoostingClassifier</label><div class=\"sk-toggleable__content\"><pre>GradientBoostingClassifier()</pre></div></div></div></div></div>"
      ],
      "text/plain": [
       "GradientBoostingClassifier()"
      ]
     },
     "execution_count": 76,
     "metadata": {},
     "output_type": "execute_result"
    }
   ],
   "source": [
    "gbc = GradientBoostingClassifier()\n",
    "gbc.fit(X_trainset, y_trainset)"
   ]
  },
  {
   "cell_type": "markdown",
   "id": "8678d805",
   "metadata": {},
   "source": [
    "Predicting"
   ]
  },
  {
   "cell_type": "code",
   "execution_count": 77,
   "id": "98ce0ae6",
   "metadata": {},
   "outputs": [],
   "source": [
    "y_pred = gbc.predict(X_testset)"
   ]
  },
  {
   "cell_type": "markdown",
   "id": "5cb5a7ce",
   "metadata": {},
   "source": [
    "Evaluation"
   ]
  },
  {
   "cell_type": "code",
   "execution_count": 78,
   "id": "c0abb9c6",
   "metadata": {},
   "outputs": [
    {
     "name": "stdout",
     "output_type": "stream",
     "text": [
      "0.7827715355805244\n"
     ]
    }
   ],
   "source": [
    "acc_gbc = accuracy_score(y_pred, y_testset)\n",
    "print(acc_gbc)"
   ]
  },
  {
   "cell_type": "markdown",
   "id": "c4079c7e",
   "metadata": {},
   "source": [
    "<font color=\"darkred\" size=\"5\">Creating Submission File</font>"
   ]
  },
  {
   "cell_type": "code",
   "execution_count": 79,
   "id": "72d51659",
   "metadata": {},
   "outputs": [],
   "source": [
    "#Highest accuracy: Gradient Boosting\n",
    "X_test = test_data.drop(['PassengerId', 'Survived'], axis = 1)\n",
    "\n",
    "y_pred_test = gbc.predict(X_test)\n",
    "\n",
    "# Create a DataFrame for output\n",
    "output = pd.DataFrame({'PassengerId': test_data['PassengerId'], 'Survived': y_pred_test})\n",
    "\n",
    "# Save to Excel file\n",
    "output.to_excel('titanic_predictions.xlsx', index=False)"
   ]
  },
  {
   "cell_type": "code",
   "execution_count": 1,
   "id": "8ea778ef",
   "metadata": {},
   "outputs": [],
   "source": [
    "#Things to improve:\n",
    "# 1. Split up ticket item and ticket number\n",
    "# 2. Make more accuracte categories for Indicator and age group\n",
    "# 3. Use model.summary() to analyze the model after execution\n",
    "# 4. Do hyperparemter tuning\n",
    "# 5. Try different models\n",
    "# 6. More exploration (Maybe do something we cabins & fare)"
   ]
  }
 ],
 "metadata": {
  "kernelspec": {
   "display_name": "Python 3 (ipykernel)",
   "language": "python",
   "name": "python3"
  },
  "language_info": {
   "codemirror_mode": {
    "name": "ipython",
    "version": 3
   },
   "file_extension": ".py",
   "mimetype": "text/x-python",
   "name": "python",
   "nbconvert_exporter": "python",
   "pygments_lexer": "ipython3",
   "version": "3.10.9"
  }
 },
 "nbformat": 4,
 "nbformat_minor": 5
}
